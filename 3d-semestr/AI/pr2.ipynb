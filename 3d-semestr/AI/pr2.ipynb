{
 "cells": [
  {
   "cell_type": "markdown",
   "id": "4cfc0320",
   "metadata": {},
   "source": [
    "# 1.1. Теоретический материал – Библиотека NumPy\n",
    "NumPy (NumericalPython) - это библиотека Python с открытым исходным кодом, которая используется практически во всех областях науки и техники. Это универсальный стандарт для работы с числовыми данными в Python.  \n",
    "Если у вас уже есть Python, вы можете установить NumPy с помощью командной строки:  \n",
    "\n",
    "    -pip install numpy\n",
    "    \n",
    "Чтобы начать использовать NumPy необходимо импортировать соответствующую библиотеку:  \n",
    "import numpy as np  \n",
    "Основным объектом NumPy является однородный многомерный массив (в numpy называется numpy.ndarray). Это многомерный массив элементов (обычно чисел), одного типа.    \n",
    "Наиболее важные атрибуты объектов ndarray:  \n",
    "**ndarray.ndim** - число измерений (чаще их называют \"оси\") массива.    \n",
    "**ndarray.shape** - размеры массива, его форма. Это кортеж натуральных чисел, показывающий длину массива по каждой оси. Для матрицы из n строк и m столбов, shape будет (n,m). Число элементов кортежа shape равно ndim.  \n",
    "**ndarray.size** - количество элементов массива. Очевидно, равно произведению всех элементов атрибута shape.  \n",
    "**ndarray.dtype** - объект, описывающий тип элементов массива. Можно определить dtype, используя стандартные типы данных Python. NumPy здесь предоставляет целый букет возможностей, как встроенных, например: bool_, character, int8, int16, int32, int64, float8, float16, float32, float64, complex64, object_, так и возможность определить собственные типы данных, в том числе и составные.  \n",
    "**ndarray.itemsize** - размер каждого элемента массива в байтах.  \n",
    "**ndarray.data** - буфер, содержащий фактические элементы массива. Обычно не нужно использовать этот атрибут, так как обращаться к элементам массива проще всего с помощью индексов.  \n",
    "Подробнее о массивах в NumPy можно найти в официальной документации https://numpy.org/doc/stable/user/absolute_beginners.html  \n",
    "# 1.2.1 Пример\n",
    "**Задача:**  \n",
    "Создать массив 5х2. Вывести все значения массива, значение элемента с индексом (3,1) и второй столбец. Индексация начинается с нуля.  \n",
    "**Решение:**"
   ]
  },
  {
   "cell_type": "code",
   "execution_count": 2,
   "id": "1b1c77a1",
   "metadata": {},
   "outputs": [
    {
     "name": "stdout",
     "output_type": "stream",
     "text": [
      "[[ 1  2]\n",
      " [ 3  4]\n",
      " [ 5  6]\n",
      " [ 7  8]\n",
      " [ 9 10]]\n",
      "8\n",
      "[3 4]\n"
     ]
    }
   ],
   "source": [
    "import numpy as np\n",
    "x = np.array([[1,2],[3,4],[5,6],[7,8],[9,10]])\n",
    "print(x)\n",
    "print(x[3][1])\n",
    "print(x[1])"
   ]
  },
  {
   "cell_type": "markdown",
   "id": "e4cb5232",
   "metadata": {},
   "source": [
    "# 1.2.2 Пример\n",
    "**Задча:**  \n",
    "Пример. Выполнить следующее: \n",
    "\n",
    "    1. Создать вектор (одномерный массив) размера 10Б заполненный нулями.\n",
    "    2. Создать вектор размера 10, заполненный заданным единицами.\n",
    "    3. Создать вектор размера 10, заполненный заданным числом.\n",
    "    4. Создать вектор мо значениями от 10 до 19.\n",
    "**Решение:**"
   ]
  },
  {
   "cell_type": "code",
   "execution_count": 4,
   "id": "98b42d7c",
   "metadata": {},
   "outputs": [
    {
     "name": "stdout",
     "output_type": "stream",
     "text": [
      "[0. 0. 0. 0. 0. 0. 0. 0. 0. 0.] \n",
      " [1. 1. 1. 1. 1. 1. 1. 1. 1. 1.] \n",
      " [5 5 5 5 5 5 5 5 5 5] \n",
      " [10 11 12 13 14 15 16 17 18 19]\n"
     ]
    }
   ],
   "source": [
    "a = np.zeros(10)\n",
    "b = np.ones(10)\n",
    "c = np.full(10,5)\n",
    "d = np.arange(10,20)\n",
    "print(a, \"\\n\",b, \"\\n\",c, \"\\n\",d)"
   ]
  },
  {
   "cell_type": "markdown",
   "id": "59d80ced",
   "metadata": {},
   "source": [
    "# 1.2.3 Пример\n",
    "**Задача:**  \n",
    "Создать массив 10х10 со случайными значениями, найти минимум, максимум и среднее значение.  \n",
    "**Решение:**"
   ]
  },
  {
   "cell_type": "code",
   "execution_count": 5,
   "id": "a084777a",
   "metadata": {},
   "outputs": [
    {
     "name": "stdout",
     "output_type": "stream",
     "text": [
      "0.005588615217999693 0.999643755962561 0.4938186792562372\n"
     ]
    }
   ],
   "source": [
    "z = np.random.random((10,10))\n",
    "zmin, zmax, zmean = z.min(), z.max(), z.mean()\n",
    "print(zmin,zmax,zmean)"
   ]
  },
  {
   "cell_type": "markdown",
   "id": "b6d21d85",
   "metadata": {},
   "source": [
    "# 1.2.4 Пример\n",
    "**Задача:**  \n",
    "Задать матрицу размером 5 на 5 и поменять 2 строки в матрице местами.  \n",
    "**Решение:**"
   ]
  },
  {
   "cell_type": "code",
   "execution_count": 6,
   "id": "70b9bae3",
   "metadata": {},
   "outputs": [
    {
     "name": "stdout",
     "output_type": "stream",
     "text": [
      "[[ 5  6  7  8  9]\n",
      " [ 0  1  2  3  4]\n",
      " [10 11 12 13 14]\n",
      " [15 16 17 18 19]\n",
      " [20 21 22 23 24]]\n"
     ]
    }
   ],
   "source": [
    "a = np.arange(25).reshape(5,5)\n",
    "a[[0,1]] = a[[1,0]]\n",
    "print(a)"
   ]
  },
  {
   "cell_type": "markdown",
   "id": "924516ec",
   "metadata": {},
   "source": [
    "# 1.2.5 Пример\n",
    "**Задача:**  \n",
    "Выяснить результат следующих выражений:  \n",
    "0 * np.nan  \n",
    "np.nan == np.nan  \n",
    "np.inf > np.nan  \n",
    "np.nan - np.nan  \n",
    "0.3 == 3 * 0.1  \n",
    "**Решение**"
   ]
  },
  {
   "cell_type": "code",
   "execution_count": 7,
   "id": "568b753f",
   "metadata": {},
   "outputs": [
    {
     "name": "stdout",
     "output_type": "stream",
     "text": [
      "nan\n",
      "False\n",
      "False\n",
      "nan\n",
      "False\n"
     ]
    }
   ],
   "source": [
    "print(0*np.nan)\n",
    "print(np.nan==np.nan)\n",
    "print(np.inf > np.nan)\n",
    "print(np.nan - np.nan)\n",
    "print(0.3==3*0.1)"
   ]
  },
  {
   "cell_type": "markdown",
   "id": "5b4122f5",
   "metadata": {},
   "source": [
    "# 1.2.6 Пример\n",
    "**Задача:**  \n",
    "Отсортировать массив.  \n",
    "**Решение:**"
   ]
  },
  {
   "cell_type": "code",
   "execution_count": 8,
   "id": "ee8c0e3b",
   "metadata": {},
   "outputs": [
    {
     "name": "stdout",
     "output_type": "stream",
     "text": [
      "[1 2 3 4 5 6 7 8]\n"
     ]
    }
   ],
   "source": [
    "arr = np.array([2,1,5,3,7,4,6,8])\n",
    "print(np.sort(arr))"
   ]
  },
  {
   "cell_type": "markdown",
   "id": "3007bb70",
   "metadata": {},
   "source": [
    "# 1.3.1 Задание\n",
    "**Задача:**  \n",
    "Создать 8х8 матрицу и заполнить ее в шахматном порядке нулями и единицами.  \n",
    "**Решение:**  "
   ]
  },
  {
   "cell_type": "code",
   "execution_count": 16,
   "id": "19fea279",
   "metadata": {},
   "outputs": [
    {
     "name": "stdout",
     "output_type": "stream",
     "text": [
      "[[1 0 1 0 1 0 1 0]\n",
      " [0 1 0 1 0 1 0 1]\n",
      " [1 0 1 0 1 0 1 0]\n",
      " [0 1 0 1 0 1 0 1]\n",
      " [1 0 1 0 1 0 1 0]\n",
      " [0 1 0 1 0 1 0 1]\n",
      " [1 0 1 0 1 0 1 0]\n",
      " [0 1 0 1 0 1 0 1]]\n"
     ]
    }
   ],
   "source": [
    "arr = np.arange(64).reshape(8,8)\n",
    "for x in range(8):\n",
    "    for y in range(8):\n",
    "        if (x+y) % 2 ==0:\n",
    "            arr[x][y] = 1\n",
    "        else:\n",
    "            arr[x][y] = 0\n",
    "print(arr)"
   ]
  },
  {
   "cell_type": "markdown",
   "id": "2ec37337",
   "metadata": {},
   "source": [
    "# 1.3.1 Задание\n",
    "**Задача:**  \n",
    "Создать 5х5 матрицу со значениями в строках от 0 до 4. Для создания необходимо использовать функцию arange.  \n",
    "**Решение:**"
   ]
  },
  {
   "cell_type": "code",
   "execution_count": 21,
   "id": "acffac21",
   "metadata": {},
   "outputs": [
    {
     "name": "stdout",
     "output_type": "stream",
     "text": [
      "[[0 1 2 3 4]\n",
      " [0 1 2 3 4]\n",
      " [0 1 2 3 4]\n",
      " [0 1 2 3 4]\n",
      " [0 1 2 3 4]]\n"
     ]
    }
   ],
   "source": [
    "arr = np.arange(25).reshape(5,5)\n",
    "for i in range(5):\n",
    "    arr[i] = np.arange(5)\n",
    "print(arr)"
   ]
  },
  {
   "cell_type": "markdown",
   "id": "32e194c2",
   "metadata": {},
   "source": [
    "# 1.3.3 Задание\n",
    "**Задача:**  \n",
    "Создать массив 3х3х3 со случайными значениями.  \n",
    "**Решение:**  "
   ]
  },
  {
   "cell_type": "code",
   "execution_count": 4,
   "id": "8f924e65",
   "metadata": {},
   "outputs": [
    {
     "name": "stdout",
     "output_type": "stream",
     "text": [
      "[[[0.48419181 0.38066596 0.81867884]\n",
      "  [0.18262477 0.81630831 0.6917296 ]\n",
      "  [0.80010733 0.39999658 0.44472528]]\n",
      "\n",
      " [[0.88402113 0.82260681 0.51133457]\n",
      "  [0.2603812  0.09345983 0.02457105]\n",
      "  [0.10055339 0.32870177 0.04967386]]\n",
      "\n",
      " [[0.79954054 0.55959442 0.3180571 ]\n",
      "  [0.69296014 0.5536853  0.0487716 ]\n",
      "  [0.29013253 0.71228257 0.02732944]]]\n"
     ]
    }
   ],
   "source": [
    "import numpy as np\n",
    "\n",
    "arr = np.random.random((3,3,3))\n",
    "print(arr)"
   ]
  },
  {
   "cell_type": "markdown",
   "id": "d8c81316",
   "metadata": {},
   "source": [
    "# 1.3.4 Задание\n",
    "**Задача:**  \n",
    "Создать матрицу с 0 внутри, и 1 на границах.  \n",
    "**Решение:**"
   ]
  },
  {
   "cell_type": "code",
   "execution_count": 12,
   "id": "a6e762ed",
   "metadata": {},
   "outputs": [
    {
     "name": "stdout",
     "output_type": "stream",
     "text": [
      "[[1. 1. 1. 1. 1. 1.]\n",
      " [1. 0. 0. 0. 0. 1.]\n",
      " [1. 0. 0. 0. 0. 1.]\n",
      " [1. 0. 0. 0. 0. 1.]\n",
      " [1. 0. 0. 0. 0. 1.]\n",
      " [1. 1. 1. 1. 1. 1.]]\n"
     ]
    }
   ],
   "source": [
    "import numpy as np\n",
    "\n",
    "arr = np.ones((6,6))\n",
    "arr[1:5,1:5] = 0\n",
    "print(arr)"
   ]
  },
  {
   "cell_type": "markdown",
   "id": "6f4d45d9",
   "metadata": {},
   "source": [
    "# 1.3.5 Задание\n",
    "**Задача:**  \n",
    "Создайте массив и отсортируйте его по убыванию.  \n",
    "**Решение:**"
   ]
  },
  {
   "cell_type": "code",
   "execution_count": 18,
   "id": "cea7d376",
   "metadata": {},
   "outputs": [
    {
     "name": "stdout",
     "output_type": "stream",
     "text": [
      "[9 8 7 6 5 4 3 2 1]\n"
     ]
    }
   ],
   "source": [
    "arr = np.array([1,3,5,2,4,6,9,8,7])\n",
    "arr = np.sort(arr)\n",
    "arr = np.flip(arr)\n",
    "print(arr)"
   ]
  },
  {
   "cell_type": "markdown",
   "id": "c0fb7076",
   "metadata": {},
   "source": [
    "# 1.3.6 Задание\n",
    "**Задача:**  \n",
    "Создайте матрицу, выведите ее форму, размер и размерность.  \n",
    "**Решение:**"
   ]
  },
  {
   "cell_type": "code",
   "execution_count": 20,
   "id": "0d939be4",
   "metadata": {},
   "outputs": [
    {
     "name": "stdout",
     "output_type": "stream",
     "text": [
      "size =  25\n",
      "shape =  (5, 5)\n",
      "dim =  2\n"
     ]
    }
   ],
   "source": [
    "arr = np.arange(25).reshape(5,5)\n",
    "size = np.size(arr)\n",
    "shape = np.shape(arr)\n",
    "dim = np.ndim(arr)\n",
    "print('size = ',size)\n",
    "print('shape = ',shape)\n",
    "print('dim = ',dim)"
   ]
  },
  {
   "cell_type": "markdown",
   "id": "a053b4fd",
   "metadata": {},
   "source": [
    "# 2.1. Теоретический материал – Библиотека Pandas  \n",
    "Первым шагом в любом начинании в области машинного обучения является введение исходных данных в систему. Исходные данные могут вводиться вручную, содержаться в файле или храниться в интернете в каком-либо формате. Кроме того, часто требуется получить данные из нескольких источников.  \n",
    "*Библиотека pandas* – это удобный и быстрый инструмент для работы с данными, обладающий большим функционалом. Если очень кратко, то *pandas* – это библиотека, которая предоставляет очень удобные с точки зрения использования инструменты для хранения данных и работе с ними.  \n",
    "*Библиотека pandas* присутствует в стандартной поставке Anaconda. Если же ее там нет, то его можно установить отдельно. Для этого введите командной строке:  \n",
    "\n",
    "     pip install pandas  \n",
    "Для импорта библиотеки используйте команду:  \n",
    "\n",
    "    import pandas as pd  \n",
    "Библиотека pandas предоставляет две ключевые структуры данных:  \n",
    "Series и DataFrame.  \n",
    "**Series** – это одномерная структура данных, ее можно представить, как таблицу с одной строкой. С Series можно работать как с обычным массивом (обращаться по номеру индекса), и как с ассоциированным массивом, когда можно использовать ключ для доступа к элементам данных.  \n",
    "**DataFrame** – это двумерная структура. Идейно она очень похожа на обычную таблицу, что выражается в способе ее создания и работе с ее элементами. \n",
    "# 2.2.1 Пример\n",
    "**Задача:**  \n",
    "Создать Series из списка Python, словаря Python, и массива Numpy (установить буквенные метки для последнего).  \n",
    "**Решение:**"
   ]
  },
  {
   "cell_type": "code",
   "execution_count": 21,
   "id": "88f7448e",
   "metadata": {},
   "outputs": [
    {
     "name": "stdout",
     "output_type": "stream",
     "text": [
      "0    1\n",
      "1    2\n",
      "2    3\n",
      "3    4\n",
      "4    5\n",
      "dtype: int64\n",
      "a    1\n",
      "b    2\n",
      "c    3\n",
      "dtype: int64\n",
      "a    1\n",
      "b    2\n",
      "c    3\n",
      "d    4\n",
      "e    5\n",
      "dtype: int32\n"
     ]
    }
   ],
   "source": [
    "import pandas as pd\n",
    "lst = [1,2,3,4,5]\n",
    "d = {'a':1,'b':2,'c':3}\n",
    "ndarr = np.array([1,2,3,4,5])\n",
    "\n",
    "s1 = pd.Series(lst)\n",
    "s2 = pd.Series(d)\n",
    "s3 = pd.Series(ndarr,['a','b','c','d','e'])\n",
    "\n",
    "print(s1)\n",
    "print(s2)\n",
    "print(s3)"
   ]
  },
  {
   "cell_type": "markdown",
   "id": "6a29b333",
   "metadata": {},
   "source": [
    "# 2.2.2 Пример\n",
    "**Задача**  \n",
    "Дано два Series. Напечатать их первые элементы и все элементы после третьего (во втором фрейме).  \n",
    "**Решение:**"
   ]
  },
  {
   "cell_type": "code",
   "execution_count": 22,
   "id": "f12c77b7",
   "metadata": {},
   "outputs": [
    {
     "name": "stdout",
     "output_type": "stream",
     "text": [
      "1\n",
      "5\n",
      "3    2\n",
      "4    1\n",
      "dtype: int64\n"
     ]
    }
   ],
   "source": [
    "s1 = pd.Series([1,2,3,4,5],['a','b','c','d','e'])\n",
    "s2 = pd.Series([5,4,3,2,1])\n",
    "print(s1['a'])\n",
    "print(s2[0])\n",
    "print(s2[3:])"
   ]
  },
  {
   "cell_type": "markdown",
   "id": "8ec4417e",
   "metadata": {},
   "source": [
    "# 2.2.3 Пример\n",
    "**Задача:**  \n",
    "Создайте новый фрейм данных.  \n",
    "**Решение:**"
   ]
  },
  {
   "cell_type": "code",
   "execution_count": 23,
   "id": "6d24db32",
   "metadata": {},
   "outputs": [
    {
     "data": {
      "text/html": [
       "<div>\n",
       "<style scoped>\n",
       "    .dataframe tbody tr th:only-of-type {\n",
       "        vertical-align: middle;\n",
       "    }\n",
       "\n",
       "    .dataframe tbody tr th {\n",
       "        vertical-align: top;\n",
       "    }\n",
       "\n",
       "    .dataframe thead th {\n",
       "        text-align: right;\n",
       "    }\n",
       "</style>\n",
       "<table border=\"1\" class=\"dataframe\">\n",
       "  <thead>\n",
       "    <tr style=\"text-align: right;\">\n",
       "      <th></th>\n",
       "      <th>Имя</th>\n",
       "      <th>Возраст</th>\n",
       "      <th>Водитель</th>\n",
       "    </tr>\n",
       "  </thead>\n",
       "  <tbody>\n",
       "    <tr>\n",
       "      <th>0</th>\n",
       "      <td>Джеки Джексон</td>\n",
       "      <td>38</td>\n",
       "      <td>True</td>\n",
       "    </tr>\n",
       "    <tr>\n",
       "      <th>1</th>\n",
       "      <td>Стивен Стивенсон</td>\n",
       "      <td>25</td>\n",
       "      <td>False</td>\n",
       "    </tr>\n",
       "  </tbody>\n",
       "</table>\n",
       "</div>"
      ],
      "text/plain": [
       "                Имя  Возраст  Водитель\n",
       "0     Джеки Джексон       38      True\n",
       "1  Стивен Стивенсон       25     False"
      ]
     },
     "execution_count": 23,
     "metadata": {},
     "output_type": "execute_result"
    }
   ],
   "source": [
    "dataframe = pd.DataFrame()\n",
    "dataframe['Имя'] = ['Джеки Джексон','Стивен Стивенсон']\n",
    "dataframe['Возраст'] = [38,25]\n",
    "dataframe['Водитель'] = [True,False]\n",
    "dataframe"
   ]
  },
  {
   "cell_type": "markdown",
   "id": "bebb0e34",
   "metadata": {},
   "source": [
    "# 2.2.4 Пример\n",
    "**Задача:**  \n",
    "Загрузите фрейм данных по ссылке:  \n",
    "https://raw.githubusercontent.com/chrisalbon/simulated_datasets/master/titanic.csv  \n",
    "**Решение:**"
   ]
  },
  {
   "cell_type": "code",
   "execution_count": 7,
   "id": "c3488f4b",
   "metadata": {},
   "outputs": [
    {
     "data": {
      "text/html": [
       "<div>\n",
       "<style scoped>\n",
       "    .dataframe tbody tr th:only-of-type {\n",
       "        vertical-align: middle;\n",
       "    }\n",
       "\n",
       "    .dataframe tbody tr th {\n",
       "        vertical-align: top;\n",
       "    }\n",
       "\n",
       "    .dataframe thead th {\n",
       "        text-align: right;\n",
       "    }\n",
       "</style>\n",
       "<table border=\"1\" class=\"dataframe\">\n",
       "  <thead>\n",
       "    <tr style=\"text-align: right;\">\n",
       "      <th></th>\n",
       "      <th>Name</th>\n",
       "      <th>PClass</th>\n",
       "      <th>Age</th>\n",
       "      <th>Sex</th>\n",
       "      <th>Survived</th>\n",
       "      <th>SexCode</th>\n",
       "    </tr>\n",
       "  </thead>\n",
       "  <tbody>\n",
       "    <tr>\n",
       "      <th>0</th>\n",
       "      <td>Allen, Miss Elisabeth Walton</td>\n",
       "      <td>1st</td>\n",
       "      <td>29.00</td>\n",
       "      <td>female</td>\n",
       "      <td>1</td>\n",
       "      <td>1</td>\n",
       "    </tr>\n",
       "    <tr>\n",
       "      <th>1</th>\n",
       "      <td>Allison, Miss Helen Loraine</td>\n",
       "      <td>1st</td>\n",
       "      <td>2.00</td>\n",
       "      <td>female</td>\n",
       "      <td>0</td>\n",
       "      <td>1</td>\n",
       "    </tr>\n",
       "    <tr>\n",
       "      <th>2</th>\n",
       "      <td>Allison, Mr Hudson Joshua Creighton</td>\n",
       "      <td>1st</td>\n",
       "      <td>30.00</td>\n",
       "      <td>male</td>\n",
       "      <td>0</td>\n",
       "      <td>0</td>\n",
       "    </tr>\n",
       "    <tr>\n",
       "      <th>3</th>\n",
       "      <td>Allison, Mrs Hudson JC (Bessie Waldo Daniels)</td>\n",
       "      <td>1st</td>\n",
       "      <td>25.00</td>\n",
       "      <td>female</td>\n",
       "      <td>0</td>\n",
       "      <td>1</td>\n",
       "    </tr>\n",
       "    <tr>\n",
       "      <th>4</th>\n",
       "      <td>Allison, Master Hudson Trevor</td>\n",
       "      <td>1st</td>\n",
       "      <td>0.92</td>\n",
       "      <td>male</td>\n",
       "      <td>1</td>\n",
       "      <td>0</td>\n",
       "    </tr>\n",
       "  </tbody>\n",
       "</table>\n",
       "</div>"
      ],
      "text/plain": [
       "                                            Name PClass    Age     Sex  \\\n",
       "0                   Allen, Miss Elisabeth Walton    1st  29.00  female   \n",
       "1                    Allison, Miss Helen Loraine    1st   2.00  female   \n",
       "2            Allison, Mr Hudson Joshua Creighton    1st  30.00    male   \n",
       "3  Allison, Mrs Hudson JC (Bessie Waldo Daniels)    1st  25.00  female   \n",
       "4                  Allison, Master Hudson Trevor    1st   0.92    male   \n",
       "\n",
       "   Survived  SexCode  \n",
       "0         1        1  \n",
       "1         0        1  \n",
       "2         0        0  \n",
       "3         0        1  \n",
       "4         1        0  "
      ]
     },
     "execution_count": 7,
     "metadata": {},
     "output_type": "execute_result"
    }
   ],
   "source": [
    "url = 'https://raw.githubusercontent.com/chrisalbon/simulated_datasets/master/titanic.csv'\n",
    "dataframe = pd.read_csv(url)\n",
    "dataframe.head(5)"
   ]
  },
  {
   "cell_type": "markdown",
   "id": "7d3943dc",
   "metadata": {},
   "source": [
    "# 2.2.5 Пример\n",
    "**Задача:**  \n",
    "Проанализировать характеристики фрейма данных.  \n",
    "**Решение:**  \n",
    "Одна из самых простых вещей, которые мы можем сделать после загрузки данных, – это взглянуть на первые несколько строк с помощью метода head. На последние строки можно посмотреть с помощью функции tail. Мы также можем взглянуть на количество строк и столбцов: dataframe.shape. Кроме того, используя метод describe, мы можем получить описательную статистику для любых числовых столбцов."
   ]
  },
  {
   "cell_type": "code",
   "execution_count": null,
   "id": "c1a60f13",
   "metadata": {},
   "outputs": [],
   "source": [
    "url = 'https://raw.githubusercontent.com/chrisalbon/simulated_datasets/master/titanic.csv'\n",
    "dataframe = pd.read_csv(url)\n",
    "dataframe.head(2)\n",
    "dataframe.tail(3)\n",
    "dataframe.shape\n",
    "dataframe.describe()"
   ]
  },
  {
   "cell_type": "markdown",
   "id": "464f7498",
   "metadata": {},
   "source": [
    "# 2.2.6 Пример\n",
    "**Задача:**  \n",
    "Выберите индивидуальные данные или срезы фрейма данных.  \n",
    "**Решение:**  \n",
    "Для выбора одной или нескольких строк, либо значений, можно использовать методы **lос** или **iloc**."
   ]
  },
  {
   "cell_type": "code",
   "execution_count": 30,
   "id": "72961ab3",
   "metadata": {
    "scrolled": true
   },
   "outputs": [
    {
     "data": {
      "text/html": [
       "<div>\n",
       "<style scoped>\n",
       "    .dataframe tbody tr th:only-of-type {\n",
       "        vertical-align: middle;\n",
       "    }\n",
       "\n",
       "    .dataframe tbody tr th {\n",
       "        vertical-align: top;\n",
       "    }\n",
       "\n",
       "    .dataframe thead th {\n",
       "        text-align: right;\n",
       "    }\n",
       "</style>\n",
       "<table border=\"1\" class=\"dataframe\">\n",
       "  <thead>\n",
       "    <tr style=\"text-align: right;\">\n",
       "      <th></th>\n",
       "      <th>Name</th>\n",
       "      <th>PClass</th>\n",
       "      <th>Age</th>\n",
       "      <th>Sex</th>\n",
       "      <th>Survived</th>\n",
       "      <th>SexCode</th>\n",
       "    </tr>\n",
       "  </thead>\n",
       "  <tbody>\n",
       "    <tr>\n",
       "      <th>1</th>\n",
       "      <td>Allison, Miss Helen Loraine</td>\n",
       "      <td>1st</td>\n",
       "      <td>2.0</td>\n",
       "      <td>female</td>\n",
       "      <td>0</td>\n",
       "      <td>1</td>\n",
       "    </tr>\n",
       "    <tr>\n",
       "      <th>2</th>\n",
       "      <td>Allison, Mr Hudson Joshua Creighton</td>\n",
       "      <td>1st</td>\n",
       "      <td>30.0</td>\n",
       "      <td>male</td>\n",
       "      <td>0</td>\n",
       "      <td>0</td>\n",
       "    </tr>\n",
       "    <tr>\n",
       "      <th>3</th>\n",
       "      <td>Allison, Mrs Hudson JC (Bessie Waldo Daniels)</td>\n",
       "      <td>1st</td>\n",
       "      <td>25.0</td>\n",
       "      <td>female</td>\n",
       "      <td>0</td>\n",
       "      <td>1</td>\n",
       "    </tr>\n",
       "  </tbody>\n",
       "</table>\n",
       "</div>"
      ],
      "text/plain": [
       "                                            Name PClass   Age     Sex  \\\n",
       "1                    Allison, Miss Helen Loraine    1st   2.0  female   \n",
       "2            Allison, Mr Hudson Joshua Creighton    1st  30.0    male   \n",
       "3  Allison, Mrs Hudson JC (Bessie Waldo Daniels)    1st  25.0  female   \n",
       "\n",
       "   Survived  SexCode  \n",
       "1         0        1  \n",
       "2         0        0  \n",
       "3         0        1  "
      ]
     },
     "execution_count": 30,
     "metadata": {},
     "output_type": "execute_result"
    }
   ],
   "source": [
    "dataframe.iloc[1:4]"
   ]
  },
  {
   "cell_type": "markdown",
   "id": "2c8907d3",
   "metadata": {},
   "source": [
    "# 2.2.7 Пример\n",
    "**Задача:**  \n",
    "Требуется отобрать строки фрейма данных на основе некоторого условия. Необходимо сформировать новый фрейм данных из пассажиров первого класса.  \n",
    "**Решение:**"
   ]
  },
  {
   "cell_type": "code",
   "execution_count": 31,
   "id": "394b2994",
   "metadata": {},
   "outputs": [
    {
     "data": {
      "text/html": [
       "<div>\n",
       "<style scoped>\n",
       "    .dataframe tbody tr th:only-of-type {\n",
       "        vertical-align: middle;\n",
       "    }\n",
       "\n",
       "    .dataframe tbody tr th {\n",
       "        vertical-align: top;\n",
       "    }\n",
       "\n",
       "    .dataframe thead th {\n",
       "        text-align: right;\n",
       "    }\n",
       "</style>\n",
       "<table border=\"1\" class=\"dataframe\">\n",
       "  <thead>\n",
       "    <tr style=\"text-align: right;\">\n",
       "      <th></th>\n",
       "      <th>Name</th>\n",
       "      <th>PClass</th>\n",
       "      <th>Age</th>\n",
       "      <th>Sex</th>\n",
       "      <th>Survived</th>\n",
       "      <th>SexCode</th>\n",
       "    </tr>\n",
       "  </thead>\n",
       "  <tbody>\n",
       "    <tr>\n",
       "      <th>0</th>\n",
       "      <td>Allen, Miss Elisabeth Walton</td>\n",
       "      <td>1st</td>\n",
       "      <td>29.0</td>\n",
       "      <td>female</td>\n",
       "      <td>1</td>\n",
       "      <td>1</td>\n",
       "    </tr>\n",
       "    <tr>\n",
       "      <th>1</th>\n",
       "      <td>Allison, Miss Helen Loraine</td>\n",
       "      <td>1st</td>\n",
       "      <td>2.0</td>\n",
       "      <td>female</td>\n",
       "      <td>0</td>\n",
       "      <td>1</td>\n",
       "    </tr>\n",
       "  </tbody>\n",
       "</table>\n",
       "</div>"
      ],
      "text/plain": [
       "                           Name PClass   Age     Sex  Survived  SexCode\n",
       "0  Allen, Miss Elisabeth Walton    1st  29.0  female         1        1\n",
       "1   Allison, Miss Helen Loraine    1st   2.0  female         0        1"
      ]
     },
     "execution_count": 31,
     "metadata": {},
     "output_type": "execute_result"
    }
   ],
   "source": [
    "dataframe[dataframe['PClass'] == '1st'].head(2)"
   ]
  },
  {
   "cell_type": "markdown",
   "id": "9e51ff1b",
   "metadata": {},
   "source": [
    "# 2.3.1 Задание\n",
    "**Задача:**  \n",
    "Найти евклидово расстояние между двумя Series (точками) a и b, не используя встроенную формулу.  \n",
    "**Решение:**"
   ]
  },
  {
   "cell_type": "code",
   "execution_count": 39,
   "id": "e89eb550",
   "metadata": {},
   "outputs": [
    {
     "name": "stdout",
     "output_type": "stream",
     "text": [
      "5.0990195135927845\n"
     ]
    }
   ],
   "source": [
    "a = pd.Series([0,5,7])\n",
    "b = pd.Series([1,2,3])\n",
    "dist = (sum((a-b)**2)**.5)\n",
    "print(dist)"
   ]
  },
  {
   "cell_type": "markdown",
   "id": "b0f44f28",
   "metadata": {},
   "source": [
    "# 2.3.2 Задание\n",
    "**Задача:** \n",
    "Найдите в Интернете ссылку на любой csv файл и сформируйте из него фрейм данных (например, коллекцию фреймов данных можно найти здесь: https://github.com/akmand/datasets).  \n",
    "**Решение:**"
   ]
  },
  {
   "cell_type": "code",
   "execution_count": 8,
   "id": "e8a2cd92",
   "metadata": {},
   "outputs": [
    {
     "data": {
      "text/html": [
       "<div>\n",
       "<style scoped>\n",
       "    .dataframe tbody tr th:only-of-type {\n",
       "        vertical-align: middle;\n",
       "    }\n",
       "\n",
       "    .dataframe tbody tr th {\n",
       "        vertical-align: top;\n",
       "    }\n",
       "\n",
       "    .dataframe thead th {\n",
       "        text-align: right;\n",
       "    }\n",
       "</style>\n",
       "<table border=\"1\" class=\"dataframe\">\n",
       "  <thead>\n",
       "    <tr style=\"text-align: right;\">\n",
       "      <th></th>\n",
       "      <th>genhlth</th>\n",
       "      <th>exerany</th>\n",
       "      <th>hlthplan</th>\n",
       "      <th>smoke100</th>\n",
       "      <th>height</th>\n",
       "      <th>weight</th>\n",
       "      <th>wtdesire</th>\n",
       "      <th>age</th>\n",
       "      <th>gender</th>\n",
       "    </tr>\n",
       "  </thead>\n",
       "  <tbody>\n",
       "    <tr>\n",
       "      <th>0</th>\n",
       "      <td>good</td>\n",
       "      <td>0</td>\n",
       "      <td>1</td>\n",
       "      <td>0</td>\n",
       "      <td>70</td>\n",
       "      <td>175</td>\n",
       "      <td>175</td>\n",
       "      <td>77</td>\n",
       "      <td>m</td>\n",
       "    </tr>\n",
       "    <tr>\n",
       "      <th>1</th>\n",
       "      <td>good</td>\n",
       "      <td>0</td>\n",
       "      <td>1</td>\n",
       "      <td>1</td>\n",
       "      <td>64</td>\n",
       "      <td>125</td>\n",
       "      <td>115</td>\n",
       "      <td>33</td>\n",
       "      <td>f</td>\n",
       "    </tr>\n",
       "  </tbody>\n",
       "</table>\n",
       "</div>"
      ],
      "text/plain": [
       "  genhlth  exerany  hlthplan  smoke100  height  weight  wtdesire  age gender\n",
       "0    good        0         1         0      70     175       175   77      m\n",
       "1    good        0         1         1      64     125       115   33      f"
      ]
     },
     "execution_count": 8,
     "metadata": {},
     "output_type": "execute_result"
    }
   ],
   "source": [
    "import pandas as pd\n",
    "url = 'https://raw.githubusercontent.com/akmand/datasets/main/cdc.csv'\n",
    "dataframe = pd.read_csv(url)"
   ]
  },
  {
   "cell_type": "markdown",
   "id": "8121894f",
   "metadata": {},
   "source": [
    "# 2.3.3 Задание\n",
    "**Задача:**  \n",
    "Проделайте м получившимися из предыдущего задания фреймом данных те же действия, что и в примерах 2.2.5-2.2.7.  \n",
    "**Решение:**"
   ]
  },
  {
   "cell_type": "code",
   "execution_count": 16,
   "id": "65984e6d",
   "metadata": {
    "scrolled": true
   },
   "outputs": [
    {
     "data": {
      "text/html": [
       "<div>\n",
       "<style scoped>\n",
       "    .dataframe tbody tr th:only-of-type {\n",
       "        vertical-align: middle;\n",
       "    }\n",
       "\n",
       "    .dataframe tbody tr th {\n",
       "        vertical-align: top;\n",
       "    }\n",
       "\n",
       "    .dataframe thead th {\n",
       "        text-align: right;\n",
       "    }\n",
       "</style>\n",
       "<table border=\"1\" class=\"dataframe\">\n",
       "  <thead>\n",
       "    <tr style=\"text-align: right;\">\n",
       "      <th></th>\n",
       "      <th>genhlth</th>\n",
       "      <th>exerany</th>\n",
       "      <th>hlthplan</th>\n",
       "      <th>smoke100</th>\n",
       "      <th>height</th>\n",
       "      <th>weight</th>\n",
       "      <th>wtdesire</th>\n",
       "      <th>age</th>\n",
       "      <th>gender</th>\n",
       "    </tr>\n",
       "  </thead>\n",
       "  <tbody>\n",
       "    <tr>\n",
       "      <th>6</th>\n",
       "      <td>very good</td>\n",
       "      <td>1</td>\n",
       "      <td>1</td>\n",
       "      <td>0</td>\n",
       "      <td>71</td>\n",
       "      <td>194</td>\n",
       "      <td>185</td>\n",
       "      <td>31</td>\n",
       "      <td>m</td>\n",
       "    </tr>\n",
       "    <tr>\n",
       "      <th>15</th>\n",
       "      <td>good</td>\n",
       "      <td>1</td>\n",
       "      <td>1</td>\n",
       "      <td>1</td>\n",
       "      <td>73</td>\n",
       "      <td>185</td>\n",
       "      <td>175</td>\n",
       "      <td>79</td>\n",
       "      <td>m</td>\n",
       "    </tr>\n",
       "    <tr>\n",
       "      <th>17</th>\n",
       "      <td>fair</td>\n",
       "      <td>0</td>\n",
       "      <td>1</td>\n",
       "      <td>1</td>\n",
       "      <td>71</td>\n",
       "      <td>185</td>\n",
       "      <td>185</td>\n",
       "      <td>76</td>\n",
       "      <td>m</td>\n",
       "    </tr>\n",
       "    <tr>\n",
       "      <th>18</th>\n",
       "      <td>good</td>\n",
       "      <td>1</td>\n",
       "      <td>1</td>\n",
       "      <td>1</td>\n",
       "      <td>75</td>\n",
       "      <td>200</td>\n",
       "      <td>190</td>\n",
       "      <td>43</td>\n",
       "      <td>m</td>\n",
       "    </tr>\n",
       "    <tr>\n",
       "      <th>22</th>\n",
       "      <td>very good</td>\n",
       "      <td>0</td>\n",
       "      <td>1</td>\n",
       "      <td>1</td>\n",
       "      <td>73</td>\n",
       "      <td>160</td>\n",
       "      <td>160</td>\n",
       "      <td>43</td>\n",
       "      <td>m</td>\n",
       "    </tr>\n",
       "    <tr>\n",
       "      <th>29</th>\n",
       "      <td>excellent</td>\n",
       "      <td>1</td>\n",
       "      <td>1</td>\n",
       "      <td>1</td>\n",
       "      <td>74</td>\n",
       "      <td>185</td>\n",
       "      <td>175</td>\n",
       "      <td>63</td>\n",
       "      <td>m</td>\n",
       "    </tr>\n",
       "    <tr>\n",
       "      <th>31</th>\n",
       "      <td>excellent</td>\n",
       "      <td>1</td>\n",
       "      <td>1</td>\n",
       "      <td>0</td>\n",
       "      <td>71</td>\n",
       "      <td>180</td>\n",
       "      <td>175</td>\n",
       "      <td>41</td>\n",
       "      <td>m</td>\n",
       "    </tr>\n",
       "    <tr>\n",
       "      <th>32</th>\n",
       "      <td>very good</td>\n",
       "      <td>1</td>\n",
       "      <td>1</td>\n",
       "      <td>0</td>\n",
       "      <td>71</td>\n",
       "      <td>182</td>\n",
       "      <td>182</td>\n",
       "      <td>36</td>\n",
       "      <td>m</td>\n",
       "    </tr>\n",
       "    <tr>\n",
       "      <th>43</th>\n",
       "      <td>very good</td>\n",
       "      <td>1</td>\n",
       "      <td>1</td>\n",
       "      <td>1</td>\n",
       "      <td>73</td>\n",
       "      <td>210</td>\n",
       "      <td>170</td>\n",
       "      <td>36</td>\n",
       "      <td>f</td>\n",
       "    </tr>\n",
       "    <tr>\n",
       "      <th>53</th>\n",
       "      <td>excellent</td>\n",
       "      <td>1</td>\n",
       "      <td>1</td>\n",
       "      <td>0</td>\n",
       "      <td>72</td>\n",
       "      <td>170</td>\n",
       "      <td>168</td>\n",
       "      <td>30</td>\n",
       "      <td>m</td>\n",
       "    </tr>\n",
       "  </tbody>\n",
       "</table>\n",
       "</div>"
      ],
      "text/plain": [
       "      genhlth  exerany  hlthplan  smoke100  height  weight  wtdesire  age  \\\n",
       "6   very good        1         1         0      71     194       185   31   \n",
       "15       good        1         1         1      73     185       175   79   \n",
       "17       fair        0         1         1      71     185       185   76   \n",
       "18       good        1         1         1      75     200       190   43   \n",
       "22  very good        0         1         1      73     160       160   43   \n",
       "29  excellent        1         1         1      74     185       175   63   \n",
       "31  excellent        1         1         0      71     180       175   41   \n",
       "32  very good        1         1         0      71     182       182   36   \n",
       "43  very good        1         1         1      73     210       170   36   \n",
       "53  excellent        1         1         0      72     170       168   30   \n",
       "\n",
       "   gender  \n",
       "6       m  \n",
       "15      m  \n",
       "17      m  \n",
       "18      m  \n",
       "22      m  \n",
       "29      m  \n",
       "31      m  \n",
       "32      m  \n",
       "43      f  \n",
       "53      m  "
      ]
     },
     "execution_count": 16,
     "metadata": {},
     "output_type": "execute_result"
    }
   ],
   "source": [
    "dataframe.head(2)\n",
    "dataframe.tail(3)\n",
    "dataframe.shape\n",
    "dataframe.describe()\n",
    "dataframe.iloc[2:7]\n",
    "dataframe[dataframe['height'] > 70].head(10)"
   ]
  },
  {
   "attachments": {
    "normal.jpg": {
     "image/jpeg": "[encoded data removed]"
    }
   },
   "cell_type": "markdown",
   "id": "69189660",
   "metadata": {},
   "source": [
    "# 3.1. Теоретический материал - Работа с числовыми данными\n",
    "Количественне данные что-то измеряют - будь то размер класса, ежемесячные продажи или оценик учащихся. Естественным спрособом представления этих величин является численный (например, 150 студентов, 529 392 продаж).  \n",
    "**Нормализация данных** - это общепринятая задача предобработки в машинном обучении. Многие алгоритмы предполагают, что все признаки находятся в единой шкале, как правило от 0 до 1 или от -1 до 1.  \n",
    "Существует множество способов нормализации значений признаков, чтобы масштабировать их кединому диапазону и использовать в различных моделях машинного обучения. В зависимости от используемой функции, их можно разделить нс 2 большие группы: линейные и нелинейные. При нелинейнойнормалищации в расчетных соотношениях используются функции логистической сигмоиды или гиперболического тангенса. В линейной нормалиазции изменение переменных осуществляется пропорционально, по линейному закону.  \n",
    "На практике наиболее распространены следующие методы нормализации признаков:  \n",
    "-**Минмакс** - линейное преобразование данных в диапазоне [0..1], где минимальное и максимально масштабируемые значения соответсвуют 0 и 1 соответственно.  \n",
    "-**Z-масштабирование**данных на основе среднего значенияи стандартного отклонения: производят деление разницы между переменной и средним значением на стандратное отклонение.  \n",
    "![normal.jpg](attachment:normal.jpg)  \n",
    "# 3.2.1 Пример\n",
    "**Задача:**  \n",
    "Прошкалируйте числовой признак в диапазон между двумя значениями.  \n",
    "**Решение:**"
   ]
  },
  {
   "cell_type": "code",
   "execution_count": 16,
   "id": "995edf11",
   "metadata": {},
   "outputs": [
    {
     "data": {
      "text/plain": [
       "array([[0.        ],\n",
       "       [0.28571429],\n",
       "       [0.35714286],\n",
       "       [0.42857143],\n",
       "       [1.        ]])"
      ]
     },
     "execution_count": 16,
     "metadata": {},
     "output_type": "execute_result"
    }
   ],
   "source": [
    "import numpy as np\n",
    "from sklearn import preprocessing\n",
    "\n",
    "feature = np.array([[-500.5],[-100.1],[0],[100.1],[900.9]])\n",
    "minmax_scale = preprocessing.MinMaxScaler()\n",
    "scaled_feature = minmax_scale.fit_transform(feature)\n",
    "\n",
    "scaled_feature"
   ]
  },
  {
   "cell_type": "markdown",
   "id": "638c3331",
   "metadata": {},
   "source": [
    "# 3.2.2 Пример\n",
    "**Задача:**  \n",
    "Преборазуйте признак, чтобы он имел среднее значение 0 и стандартное отклонение 1.  \n",
    "**Решение:**"
   ]
  },
  {
   "cell_type": "code",
   "execution_count": 7,
   "id": "28bb85f6",
   "metadata": {},
   "outputs": [
    {
     "data": {
      "text/plain": [
       "array([[-0.76058269],\n",
       "       [-0.54177196],\n",
       "       [-0.35009716],\n",
       "       [-0.32271504],\n",
       "       [ 1.97516685]])"
      ]
     },
     "execution_count": 7,
     "metadata": {},
     "output_type": "execute_result"
    }
   ],
   "source": [
    "x = np.array([[-1000.1],[-200.2],[500.5],[600.6],[9000.9]])\n",
    "\n",
    "scaler = preprocessing.StandardScaler()\n",
    "standardized = scaler.fit_transform(x)\n",
    "standardized\n",
    "\n",
    "# print(\"Среднее: \", round(standardized.mean()))\n",
    "# print(\"Стандартное отклонение: \", standardized.std())"
   ]
  },
  {
   "cell_type": "markdown",
   "id": "16169dc5",
   "metadata": {},
   "source": [
    "# 3.2.3 Пример\n",
    "**Задача:**  \n",
    "Дан фрейм данных  \n",
    "\n",
    "    dfTest = pd.DataFrame({'A':[14.00,90.20,90.95,96.27,91.21],\n",
    "                            'B':[103.02,107.26,110.35,114.23,114.68],\n",
    "                            'C':['big','small','big','small','small']})\n",
    "Необходимо масштабировать его числовые стобцы.  \n",
    "**Решение:**"
   ]
  },
  {
   "cell_type": "code",
   "execution_count": 17,
   "id": "d795e29a",
   "metadata": {},
   "outputs": [
    {
     "data": {
      "text/html": [
       "<div>\n",
       "<style scoped>\n",
       "    .dataframe tbody tr th:only-of-type {\n",
       "        vertical-align: middle;\n",
       "    }\n",
       "\n",
       "    .dataframe tbody tr th {\n",
       "        vertical-align: top;\n",
       "    }\n",
       "\n",
       "    .dataframe thead th {\n",
       "        text-align: right;\n",
       "    }\n",
       "</style>\n",
       "<table border=\"1\" class=\"dataframe\">\n",
       "  <thead>\n",
       "    <tr style=\"text-align: right;\">\n",
       "      <th></th>\n",
       "      <th>A</th>\n",
       "      <th>B</th>\n",
       "      <th>C</th>\n",
       "    </tr>\n",
       "  </thead>\n",
       "  <tbody>\n",
       "    <tr>\n",
       "      <th>0</th>\n",
       "      <td>0.000000</td>\n",
       "      <td>0.000000</td>\n",
       "      <td>big</td>\n",
       "    </tr>\n",
       "    <tr>\n",
       "      <th>1</th>\n",
       "      <td>0.926219</td>\n",
       "      <td>0.363636</td>\n",
       "      <td>small</td>\n",
       "    </tr>\n",
       "    <tr>\n",
       "      <th>2</th>\n",
       "      <td>0.935335</td>\n",
       "      <td>0.628645</td>\n",
       "      <td>big</td>\n",
       "    </tr>\n",
       "    <tr>\n",
       "      <th>3</th>\n",
       "      <td>1.000000</td>\n",
       "      <td>0.961407</td>\n",
       "      <td>small</td>\n",
       "    </tr>\n",
       "    <tr>\n",
       "      <th>4</th>\n",
       "      <td>0.938495</td>\n",
       "      <td>1.000000</td>\n",
       "      <td>small</td>\n",
       "    </tr>\n",
       "  </tbody>\n",
       "</table>\n",
       "</div>"
      ],
      "text/plain": [
       "          A         B      C\n",
       "0  0.000000  0.000000    big\n",
       "1  0.926219  0.363636  small\n",
       "2  0.935335  0.628645    big\n",
       "3  1.000000  0.961407  small\n",
       "4  0.938495  1.000000  small"
      ]
     },
     "execution_count": 17,
     "metadata": {},
     "output_type": "execute_result"
    }
   ],
   "source": [
    "import pandas as pd\n",
    "from sklearn.preprocessing import MinMaxScaler\n",
    "scaler = MinMaxScaler()\n",
    "dfTest = pd.DataFrame({'A':[14.00,90.20,90.95,96.27,91.21], \n",
    "                       'B':[103.02,107.26,110.35,114.23,114.68], \n",
    "                       'C':['big','small','big','small','small']})\n",
    "dfTest[['A','B']] = scaler.fit_transform(dfTest[['A','B']])\n",
    "dfTest"
   ]
  },
  {
   "cell_type": "markdown",
   "id": "cc834fea",
   "metadata": {},
   "source": [
    "# 3.3.2 Задание\n",
    "**Задача:**  \n",
    "Загрузить фрейм данных по ссылке:  \n",
    "https://raw.githubusercontent.com/akmand/datasets/master/iris.csv  \n",
    "Необходимо выполнить нормализацию первого числового признака (sepal_length_cm) с использованием минмаксного преобразования, а второго (sepal_width_cm) с задействованием z-масштабирования.  \n",
    "**Решение:**"
   ]
  },
  {
   "cell_type": "code",
   "execution_count": 21,
   "id": "6b0fedd7",
   "metadata": {},
   "outputs": [
    {
     "data": {
      "text/html": [
       "<div>\n",
       "<style scoped>\n",
       "    .dataframe tbody tr th:only-of-type {\n",
       "        vertical-align: middle;\n",
       "    }\n",
       "\n",
       "    .dataframe tbody tr th {\n",
       "        vertical-align: top;\n",
       "    }\n",
       "\n",
       "    .dataframe thead th {\n",
       "        text-align: right;\n",
       "    }\n",
       "</style>\n",
       "<table border=\"1\" class=\"dataframe\">\n",
       "  <thead>\n",
       "    <tr style=\"text-align: right;\">\n",
       "      <th></th>\n",
       "      <th>sepal_length_cm</th>\n",
       "      <th>sepal_width_cm</th>\n",
       "      <th>petal_length_cm</th>\n",
       "      <th>petal_width_cm</th>\n",
       "      <th>species</th>\n",
       "    </tr>\n",
       "  </thead>\n",
       "  <tbody>\n",
       "    <tr>\n",
       "      <th>0</th>\n",
       "      <td>0.222222</td>\n",
       "      <td>1.032057</td>\n",
       "      <td>1.4</td>\n",
       "      <td>0.2</td>\n",
       "      <td>setosa</td>\n",
       "    </tr>\n",
       "    <tr>\n",
       "      <th>1</th>\n",
       "      <td>0.166667</td>\n",
       "      <td>-0.124958</td>\n",
       "      <td>1.4</td>\n",
       "      <td>0.2</td>\n",
       "      <td>setosa</td>\n",
       "    </tr>\n",
       "    <tr>\n",
       "      <th>2</th>\n",
       "      <td>0.111111</td>\n",
       "      <td>0.337848</td>\n",
       "      <td>1.3</td>\n",
       "      <td>0.2</td>\n",
       "      <td>setosa</td>\n",
       "    </tr>\n",
       "    <tr>\n",
       "      <th>3</th>\n",
       "      <td>0.083333</td>\n",
       "      <td>0.106445</td>\n",
       "      <td>1.5</td>\n",
       "      <td>0.2</td>\n",
       "      <td>setosa</td>\n",
       "    </tr>\n",
       "    <tr>\n",
       "      <th>4</th>\n",
       "      <td>0.194444</td>\n",
       "      <td>1.263460</td>\n",
       "      <td>1.4</td>\n",
       "      <td>0.2</td>\n",
       "      <td>setosa</td>\n",
       "    </tr>\n",
       "    <tr>\n",
       "      <th>...</th>\n",
       "      <td>...</td>\n",
       "      <td>...</td>\n",
       "      <td>...</td>\n",
       "      <td>...</td>\n",
       "      <td>...</td>\n",
       "    </tr>\n",
       "    <tr>\n",
       "      <th>145</th>\n",
       "      <td>0.666667</td>\n",
       "      <td>-0.124958</td>\n",
       "      <td>5.2</td>\n",
       "      <td>2.3</td>\n",
       "      <td>virginica</td>\n",
       "    </tr>\n",
       "    <tr>\n",
       "      <th>146</th>\n",
       "      <td>0.555556</td>\n",
       "      <td>-1.281972</td>\n",
       "      <td>5.0</td>\n",
       "      <td>1.9</td>\n",
       "      <td>virginica</td>\n",
       "    </tr>\n",
       "    <tr>\n",
       "      <th>147</th>\n",
       "      <td>0.611111</td>\n",
       "      <td>-0.124958</td>\n",
       "      <td>5.2</td>\n",
       "      <td>2.0</td>\n",
       "      <td>virginica</td>\n",
       "    </tr>\n",
       "    <tr>\n",
       "      <th>148</th>\n",
       "      <td>0.527778</td>\n",
       "      <td>0.800654</td>\n",
       "      <td>5.4</td>\n",
       "      <td>2.3</td>\n",
       "      <td>virginica</td>\n",
       "    </tr>\n",
       "    <tr>\n",
       "      <th>149</th>\n",
       "      <td>0.444444</td>\n",
       "      <td>-0.124958</td>\n",
       "      <td>5.1</td>\n",
       "      <td>1.8</td>\n",
       "      <td>virginica</td>\n",
       "    </tr>\n",
       "  </tbody>\n",
       "</table>\n",
       "<p>150 rows × 5 columns</p>\n",
       "</div>"
      ],
      "text/plain": [
       "     sepal_length_cm  sepal_width_cm  petal_length_cm  petal_width_cm  \\\n",
       "0           0.222222        1.032057              1.4             0.2   \n",
       "1           0.166667       -0.124958              1.4             0.2   \n",
       "2           0.111111        0.337848              1.3             0.2   \n",
       "3           0.083333        0.106445              1.5             0.2   \n",
       "4           0.194444        1.263460              1.4             0.2   \n",
       "..               ...             ...              ...             ...   \n",
       "145         0.666667       -0.124958              5.2             2.3   \n",
       "146         0.555556       -1.281972              5.0             1.9   \n",
       "147         0.611111       -0.124958              5.2             2.0   \n",
       "148         0.527778        0.800654              5.4             2.3   \n",
       "149         0.444444       -0.124958              5.1             1.8   \n",
       "\n",
       "       species  \n",
       "0       setosa  \n",
       "1       setosa  \n",
       "2       setosa  \n",
       "3       setosa  \n",
       "4       setosa  \n",
       "..         ...  \n",
       "145  virginica  \n",
       "146  virginica  \n",
       "147  virginica  \n",
       "148  virginica  \n",
       "149  virginica  \n",
       "\n",
       "[150 rows x 5 columns]"
      ]
     },
     "execution_count": 21,
     "metadata": {},
     "output_type": "execute_result"
    }
   ],
   "source": [
    "url = 'https://raw.githubusercontent.com/akmand/datasets/master/iris.csv'\n",
    "\n",
    "data = pd.read_csv(url)\n",
    "scaler = preprocessing.MinMaxScaler()\n",
    "data[['sepal_length_cm']] = scaler.fit_transform(data[['sepal_length_cm']])\n",
    "scaler = preprocessing.StandardScaler()\n",
    "data[['sepal_width_cm']] = scaler.fit_transform(data[['sepal_width_cm']])\n",
    "data"
   ]
  }
 ],
 "metadata": {
  "kernelspec": {
   "display_name": "Python 3 (ipykernel)",
   "language": "python",
   "name": "python3"
  },
  "language_info": {
   "codemirror_mode": {
    "name": "ipython",
    "version": 3
   },
   "file_extension": ".py",
   "mimetype": "text/x-python",
   "name": "python",
   "nbconvert_exporter": "python",
   "pygments_lexer": "ipython3",
   "version": "3.9.13"
  }
 },
 "nbformat": 4,
 "nbformat_minor": 5
}
