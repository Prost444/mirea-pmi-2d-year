{
  "cells": [
    {
      "cell_type": "code",
      "execution_count": 1,
      "metadata": {
        "id": "exFkotWz7Lk_"
      },
      "outputs": [],
      "source": [
        "%load_ext sql\n",
        "%sql sqlite:///chinook.db"
      ]
    },
    {
      "cell_type": "markdown",
      "metadata": {
        "id": "8Nwojma57LlH"
      },
      "source": [
        "## Задание 1\n",
        "Вывести страну, где популярнее всего группа Iron Maiden (т.е. треков куплено больше, чем в других странах)."
      ]
    },
    {
      "cell_type": "code",
      "execution_count": 2,
      "metadata": {
        "id": "d7khdweNOWaJ"
      },
      "outputs": [
        {
          "name": "stdout",
          "output_type": "stream",
          "text": [
            " * sqlite:///chinook.db\n",
            "Done.\n"
          ]
        },
        {
          "data": {
            "text/html": [
              "<table>\n",
              "    <thead>\n",
              "        <tr>\n",
              "            <th>BillingCountry</th>\n",
              "            <th>TotalSales</th>\n",
              "        </tr>\n",
              "    </thead>\n",
              "    <tbody>\n",
              "        <tr>\n",
              "            <td>USA</td>\n",
              "            <td>34</td>\n",
              "        </tr>\n",
              "    </tbody>\n",
              "</table>"
            ],
            "text/plain": [
              "[('USA', 34)]"
            ]
          },
          "execution_count": 2,
          "metadata": {},
          "output_type": "execute_result"
        }
      ],
      "source": [
        "%%sql\n",
        "SELECT BillingCountry, COUNT(*) as TotalSales\n",
        "FROM invoices\n",
        "JOIN invoice_items ON invoices.InvoiceId = invoice_items.InvoiceId\n",
        "JOIN tracks ON invoice_items.TrackId = tracks.TrackId\n",
        "JOIN albums ON tracks.AlbumId = albums.AlbumId\n",
        "JOIN artists ON albums.ArtistId = artists.ArtistId\n",
        "WHERE artists.Name = 'Iron Maiden'\n",
        "GROUP BY BillingCountry\n",
        "ORDER BY TotalSales DESC\n",
        "LIMIT 1;"
      ]
    },
    {
      "cell_type": "markdown",
      "metadata": {
        "id": "epfFVrwEAQzY"
      },
      "source": [
        "## Задание 2\n",
        "Вывести альбом, который является максимальным по продолжительности среди альбомов со стоимостью, большей средней цены за альбом *(цена альбома - сумма цен треков)*."
      ]
    },
    {
      "cell_type": "code",
      "execution_count": 7,
      "metadata": {
        "id": "_KE5Y3IvWMFa"
      },
      "outputs": [
        {
          "name": "stdout",
          "output_type": "stream",
          "text": [
            " * sqlite:///chinook.db\n",
            "Done.\n"
          ]
        },
        {
          "data": {
            "text/html": [
              "<table>\n",
              "    <thead>\n",
              "        <tr>\n",
              "            <th>Title</th>\n",
              "            <th>TotalDurationMinutes</th>\n",
              "        </tr>\n",
              "    </thead>\n",
              "    <tbody>\n",
              "        <tr>\n",
              "            <td>Lost, Season 3</td>\n",
              "            <td>1177.7597</td>\n",
              "        </tr>\n",
              "        <tr>\n",
              "            <td>Battlestar Galactica (Classic), Season 1</td>\n",
              "            <td>1170.2297333333333</td>\n",
              "        </tr>\n",
              "        <tr>\n",
              "            <td>Lost, Season 1</td>\n",
              "            <td>1080.9156</td>\n",
              "        </tr>\n",
              "    </tbody>\n",
              "</table>"
            ],
            "text/plain": [
              "[('Lost, Season 3', 1177.7597),\n",
              " ('Battlestar Galactica (Classic), Season 1', 1170.2297333333333),\n",
              " ('Lost, Season 1', 1080.9156)]"
            ]
          },
          "execution_count": 7,
          "metadata": {},
          "output_type": "execute_result"
        }
      ],
      "source": [
        "%%sql\n",
        "WITH AlbumPrices AS (\n",
        "    SELECT \n",
        "        albums.AlbumId,\n",
        "        SUM(tracks.UnitPrice) AS TotalPrice\n",
        "    FROM \n",
        "        albums\n",
        "    JOIN tracks ON albums.AlbumId = tracks.AlbumId\n",
        "    GROUP BY albums.AlbumId\n",
        "),\n",
        "AveragePrice AS (\n",
        "    SELECT AVG(TotalPrice) AS AvgPrice FROM AlbumPrices\n",
        "),\n",
        "AlbumDurations AS (\n",
        "    SELECT \n",
        "        albums.AlbumId, \n",
        "        albums.Title, \n",
        "        SUM(tracks.Milliseconds) / 60000.0 AS TotalDurationMinutes\n",
        "    FROM \n",
        "        albums\n",
        "    JOIN tracks ON albums.AlbumId = tracks.AlbumId\n",
        "    GROUP BY albums.AlbumId\n",
        ")\n",
        "SELECT \n",
        "    AlbumDurations.Title, \n",
        "    AlbumDurations.TotalDurationMinutes\n",
        "FROM \n",
        "    AlbumDurations\n",
        "JOIN AlbumPrices ON AlbumDurations.AlbumId = AlbumPrices.AlbumId\n",
        "CROSS JOIN AveragePrice\n",
        "WHERE \n",
        "    AlbumPrices.TotalPrice > AveragePrice.AvgPrice\n",
        "ORDER BY \n",
        "    AlbumDurations.TotalDurationMinutes DESC\n",
        "LIMIT 3;\n"
      ]
    },
    {
      "cell_type": "markdown",
      "metadata": {
        "id": "nLIbkB-w_aD6"
      },
      "source": [
        "## Задание 3\n",
        "Вывести общую стоимость треков, приобретённых компаниями (только клиентами из конкретных компаний), которые обслуживались сотрудниками, нанятыми после 3 августа 2002 года."
      ]
    },
    {
      "cell_type": "code",
      "execution_count": 9,
      "metadata": {
        "id": "CufkUckwWNFb"
      },
      "outputs": [
        {
          "name": "stdout",
          "output_type": "stream",
          "text": [
            " * sqlite:///chinook.db\n",
            "Done.\n"
          ]
        },
        {
          "data": {
            "text/html": [
              "<table>\n",
              "    <thead>\n",
              "        <tr>\n",
              "            <th>TotalCost</th>\n",
              "        </tr>\n",
              "    </thead>\n",
              "    <tbody>\n",
              "        <tr>\n",
              "            <td>230.72000000000062</td>\n",
              "        </tr>\n",
              "    </tbody>\n",
              "</table>"
            ],
            "text/plain": [
              "[(230.72000000000062,)]"
            ]
          },
          "execution_count": 9,
          "metadata": {},
          "output_type": "execute_result"
        }
      ],
      "source": [
        "%%sql\n",
        "WITH HiredAfter2002 AS (\n",
        "    SELECT EmployeeId\n",
        "    FROM employees\n",
        "    WHERE HireDate > '2002-08-03'\n",
        "),\n",
        "CustomersOfHiredEmployees AS (\n",
        "    SELECT CustomerId\n",
        "    FROM customers\n",
        "    WHERE SupportRepId IN (SELECT EmployeeId FROM HiredAfter2002) AND Company IS NOT NULL\n",
        ")\n",
        "SELECT \n",
        "    SUM(invoice_items.UnitPrice * invoice_items.Quantity) AS TotalCost\n",
        "FROM invoice_items\n",
        "JOIN invoices ON invoice_items.InvoiceId = invoices.InvoiceId\n",
        "WHERE invoices.CustomerId IN (SELECT CustomerId FROM CustomersOfHiredEmployees);\n"
      ]
    },
    {
      "cell_type": "markdown",
      "metadata": {
        "id": "sxAD3kTf_iSy"
      },
      "source": [
        "## Задание 4\n",
        "Для каждого альбома определить все жанры песен, которые в нём есть и количество песен по каждому жанру (формат вывода: альбом, жанр, количество).\n",
        "Выводить только те альбомы, где жанров больше одного."
      ]
    },
    {
      "cell_type": "code",
      "execution_count": 11,
      "metadata": {
        "id": "t4oHi_AvWN0j"
      },
      "outputs": [
        {
          "name": "stdout",
          "output_type": "stream",
          "text": [
            " * sqlite:///chinook.db\n",
            "Done.\n"
          ]
        },
        {
          "data": {
            "text/html": [
              "<table>\n",
              "    <thead>\n",
              "        <tr>\n",
              "            <th>AlbumTitle</th>\n",
              "            <th>GenreName</th>\n",
              "            <th>TrackCount</th>\n",
              "        </tr>\n",
              "    </thead>\n",
              "    <tbody>\n",
              "        <tr>\n",
              "            <td>Battlestar Galactica, Season 3</td>\n",
              "            <td>Science Fiction</td>\n",
              "            <td>12</td>\n",
              "        </tr>\n",
              "        <tr>\n",
              "            <td>Battlestar Galactica, Season 3</td>\n",
              "            <td>TV Shows</td>\n",
              "            <td>5</td>\n",
              "        </tr>\n",
              "        <tr>\n",
              "            <td>Battlestar Galactica, Season 3</td>\n",
              "            <td>Sci Fi &amp; Fantasy</td>\n",
              "            <td>2</td>\n",
              "        </tr>\n",
              "        <tr>\n",
              "            <td>Greatest Hits</td>\n",
              "            <td>Rock</td>\n",
              "            <td>30</td>\n",
              "        </tr>\n",
              "        <tr>\n",
              "            <td>Greatest Hits</td>\n",
              "            <td>Metal</td>\n",
              "            <td>14</td>\n",
              "        </tr>\n",
              "        <tr>\n",
              "            <td>Greatest Hits</td>\n",
              "            <td>Reggae</td>\n",
              "            <td>13</td>\n",
              "        </tr>\n",
              "        <tr>\n",
              "            <td>Heroes, Season 1</td>\n",
              "            <td>Drama</td>\n",
              "            <td>20</td>\n",
              "        </tr>\n",
              "        <tr>\n",
              "            <td>Heroes, Season 1</td>\n",
              "            <td>TV Shows</td>\n",
              "            <td>3</td>\n",
              "        </tr>\n",
              "        <tr>\n",
              "            <td>LOST, Season 4</td>\n",
              "            <td>Drama</td>\n",
              "            <td>14</td>\n",
              "        </tr>\n",
              "        <tr>\n",
              "            <td>LOST, Season 4</td>\n",
              "            <td>TV Shows</td>\n",
              "            <td>3</td>\n",
              "        </tr>\n",
              "        <tr>\n",
              "            <td>Live After Death</td>\n",
              "            <td>Metal</td>\n",
              "            <td>11</td>\n",
              "        </tr>\n",
              "        <tr>\n",
              "            <td>Live After Death</td>\n",
              "            <td>Heavy Metal</td>\n",
              "            <td>7</td>\n",
              "        </tr>\n",
              "        <tr>\n",
              "            <td>Lost, Season 2</td>\n",
              "            <td>TV Shows</td>\n",
              "            <td>16</td>\n",
              "        </tr>\n",
              "        <tr>\n",
              "            <td>Lost, Season 2</td>\n",
              "            <td>Drama</td>\n",
              "            <td>8</td>\n",
              "        </tr>\n",
              "        <tr>\n",
              "            <td>Lost, Season 3</td>\n",
              "            <td>Drama</td>\n",
              "            <td>22</td>\n",
              "        </tr>\n",
              "        <tr>\n",
              "            <td>Lost, Season 3</td>\n",
              "            <td>TV Shows</td>\n",
              "            <td>4</td>\n",
              "        </tr>\n",
              "        <tr>\n",
              "            <td>Rock In Rio [CD2]</td>\n",
              "            <td>Rock</td>\n",
              "            <td>8</td>\n",
              "        </tr>\n",
              "        <tr>\n",
              "            <td>Rock In Rio [CD2]</td>\n",
              "            <td>Metal</td>\n",
              "            <td>1</td>\n",
              "        </tr>\n",
              "        <tr>\n",
              "            <td>The Number of The Beast</td>\n",
              "            <td>Metal</td>\n",
              "            <td>7</td>\n",
              "        </tr>\n",
              "        <tr>\n",
              "            <td>The Number of The Beast</td>\n",
              "            <td>Rock</td>\n",
              "            <td>1</td>\n",
              "        </tr>\n",
              "        <tr>\n",
              "            <td>The Office, Season 3</td>\n",
              "            <td>Comedy</td>\n",
              "            <td>17</td>\n",
              "        </tr>\n",
              "        <tr>\n",
              "            <td>The Office, Season 3</td>\n",
              "            <td>TV Shows</td>\n",
              "            <td>8</td>\n",
              "        </tr>\n",
              "        <tr>\n",
              "            <td>Unplugged</td>\n",
              "            <td>Latin</td>\n",
              "            <td>16</td>\n",
              "        </tr>\n",
              "        <tr>\n",
              "            <td>Unplugged</td>\n",
              "            <td>Blues</td>\n",
              "            <td>14</td>\n",
              "        </tr>\n",
              "    </tbody>\n",
              "</table>"
            ],
            "text/plain": [
              "[('Battlestar Galactica, Season 3', 'Science Fiction', 12),\n",
              " ('Battlestar Galactica, Season 3', 'TV Shows', 5),\n",
              " ('Battlestar Galactica, Season 3', 'Sci Fi & Fantasy', 2),\n",
              " ('Greatest Hits', 'Rock', 30),\n",
              " ('Greatest Hits', 'Metal', 14),\n",
              " ('Greatest Hits', 'Reggae', 13),\n",
              " ('Heroes, Season 1', 'Drama', 20),\n",
              " ('Heroes, Season 1', 'TV Shows', 3),\n",
              " ('LOST, Season 4', 'Drama', 14),\n",
              " ('LOST, Season 4', 'TV Shows', 3),\n",
              " ('Live After Death', 'Metal', 11),\n",
              " ('Live After Death', 'Heavy Metal', 7),\n",
              " ('Lost, Season 2', 'TV Shows', 16),\n",
              " ('Lost, Season 2', 'Drama', 8),\n",
              " ('Lost, Season 3', 'Drama', 22),\n",
              " ('Lost, Season 3', 'TV Shows', 4),\n",
              " ('Rock In Rio [CD2]', 'Rock', 8),\n",
              " ('Rock In Rio [CD2]', 'Metal', 1),\n",
              " ('The Number of The Beast', 'Metal', 7),\n",
              " ('The Number of The Beast', 'Rock', 1),\n",
              " ('The Office, Season 3', 'Comedy', 17),\n",
              " ('The Office, Season 3', 'TV Shows', 8),\n",
              " ('Unplugged', 'Latin', 16),\n",
              " ('Unplugged', 'Blues', 14)]"
            ]
          },
          "execution_count": 11,
          "metadata": {},
          "output_type": "execute_result"
        }
      ],
      "source": [
        "%%sql\n",
        "WITH AlbumGenres AS (\n",
        "    SELECT \n",
        "        albums.Title AS AlbumTitle,\n",
        "        genres.Name AS GenreName,\n",
        "        COUNT(tracks.TrackId) AS TrackCount,\n",
        "        albums.AlbumId\n",
        "    FROM \n",
        "        albums\n",
        "    JOIN tracks ON albums.AlbumId = tracks.AlbumId\n",
        "    JOIN genres ON tracks.GenreId = genres.GenreId\n",
        "    GROUP BY albums.AlbumId, genres.GenreId\n",
        "),\n",
        "AlbumGenreCounts AS (\n",
        "    SELECT \n",
        "        AlbumId, \n",
        "        COUNT(DISTINCT GenreName) AS GenreCount\n",
        "    FROM AlbumGenres\n",
        "    GROUP BY AlbumId\n",
        "    HAVING GenreCount > 1\n",
        ")\n",
        "SELECT \n",
        "    ag.AlbumTitle, \n",
        "    ag.GenreName, \n",
        "    ag.TrackCount\n",
        "FROM \n",
        "    AlbumGenres ag\n",
        "JOIN AlbumGenreCounts agc ON ag.AlbumId = agc.AlbumId\n",
        "ORDER BY \n",
        "    ag.AlbumTitle, \n",
        "    ag.TrackCount DESC;\n"
      ]
    },
    {
      "cell_type": "markdown",
      "metadata": {
        "id": "Bu60tw0tADem"
      },
      "source": [
        "## Задание 5\n",
        "Для каждого артиста (таблицы Artists), у которых есть песни нескольких жанров, найти жанр, по которому он заработал наибольшее количество денег, а также вывести соотношение суммы, заработанной артистом по этому жанру к общей сумме заработанных денег. Если по нескольким жанрам заработано одинаковое количество денег, максимальное для артиста, то выбирается жанр раньше по алфавиту. Формат вывода: артист, жанр, соотношение."
      ]
    },
    {
      "cell_type": "code",
      "execution_count": 12,
      "metadata": {
        "id": "fwHo7Ro2WOg0"
      },
      "outputs": [
        {
          "name": "stdout",
          "output_type": "stream",
          "text": [
            " * sqlite:///chinook.db\n",
            "Done.\n"
          ]
        },
        {
          "data": {
            "text/html": [
              "<table>\n",
              "    <thead>\n",
              "        <tr>\n",
              "            <th>ArtistName</th>\n",
              "            <th>GenreName</th>\n",
              "            <th>EarningsRatio</th>\n",
              "        </tr>\n",
              "    </thead>\n",
              "    <tbody>\n",
              "        <tr>\n",
              "            <td>Amy Winehouse</td>\n",
              "            <td>R&amp;B/Soul</td>\n",
              "            <td>0.67</td>\n",
              "        </tr>\n",
              "        <tr>\n",
              "            <td>Antônio Carlos Jobim</td>\n",
              "            <td>Latin</td>\n",
              "            <td>0.68</td>\n",
              "        </tr>\n",
              "        <tr>\n",
              "            <td>Audioslave</td>\n",
              "            <td>Rock</td>\n",
              "            <td>0.38</td>\n",
              "        </tr>\n",
              "        <tr>\n",
              "            <td>Battlestar Galactica</td>\n",
              "            <td>Science Fiction</td>\n",
              "            <td>0.5</td>\n",
              "        </tr>\n",
              "        <tr>\n",
              "            <td>Eric Clapton</td>\n",
              "            <td>Blues</td>\n",
              "            <td>0.68</td>\n",
              "        </tr>\n",
              "        <tr>\n",
              "            <td>Faith No More</td>\n",
              "            <td>Alternative &amp; Punk</td>\n",
              "            <td>0.79</td>\n",
              "        </tr>\n",
              "        <tr>\n",
              "            <td>Foo Fighters</td>\n",
              "            <td>Rock</td>\n",
              "            <td>0.77</td>\n",
              "        </tr>\n",
              "        <tr>\n",
              "            <td>Gilberto Gil</td>\n",
              "            <td>Latin</td>\n",
              "            <td>0.65</td>\n",
              "        </tr>\n",
              "        <tr>\n",
              "            <td>Guns N&#x27; Roses</td>\n",
              "            <td>Rock</td>\n",
              "            <td>0.72</td>\n",
              "        </tr>\n",
              "        <tr>\n",
              "            <td>Heroes</td>\n",
              "            <td>Drama</td>\n",
              "            <td>0.85</td>\n",
              "        </tr>\n",
              "        <tr>\n",
              "            <td>Iron Maiden</td>\n",
              "            <td>Metal</td>\n",
              "            <td>0.5</td>\n",
              "        </tr>\n",
              "        <tr>\n",
              "            <td>Jamiroquai</td>\n",
              "            <td>R&amp;B/Soul</td>\n",
              "            <td>0.39</td>\n",
              "        </tr>\n",
              "        <tr>\n",
              "            <td>Lenny Kravitz</td>\n",
              "            <td>Rock</td>\n",
              "            <td>0.5</td>\n",
              "        </tr>\n",
              "        <tr>\n",
              "            <td>Lost</td>\n",
              "            <td>TV Shows</td>\n",
              "            <td>0.56</td>\n",
              "        </tr>\n",
              "        <tr>\n",
              "            <td>Ozzy Osbourne</td>\n",
              "            <td>Rock</td>\n",
              "            <td>0.58</td>\n",
              "        </tr>\n",
              "        <tr>\n",
              "            <td>Pearl Jam</td>\n",
              "            <td>Rock</td>\n",
              "            <td>0.81</td>\n",
              "        </tr>\n",
              "        <tr>\n",
              "            <td>R.E.M.</td>\n",
              "            <td>Alternative &amp; Punk</td>\n",
              "            <td>0.64</td>\n",
              "        </tr>\n",
              "        <tr>\n",
              "            <td>Red Hot Chili Peppers</td>\n",
              "            <td>Rock</td>\n",
              "            <td>0.63</td>\n",
              "        </tr>\n",
              "        <tr>\n",
              "            <td>The Office</td>\n",
              "            <td>TV Shows</td>\n",
              "            <td>0.64</td>\n",
              "        </tr>\n",
              "        <tr>\n",
              "            <td>U2</td>\n",
              "            <td>Rock</td>\n",
              "            <td>0.85</td>\n",
              "        </tr>\n",
              "        <tr>\n",
              "            <td>Various Artists</td>\n",
              "            <td>Latin</td>\n",
              "            <td>0.59</td>\n",
              "        </tr>\n",
              "    </tbody>\n",
              "</table>"
            ],
            "text/plain": [
              "[('Amy Winehouse', 'R&B/Soul', 0.67),\n",
              " ('Antônio Carlos Jobim', 'Latin', 0.68),\n",
              " ('Audioslave', 'Rock', 0.38),\n",
              " ('Battlestar Galactica', 'Science Fiction', 0.5),\n",
              " ('Eric Clapton', 'Blues', 0.68),\n",
              " ('Faith No More', 'Alternative & Punk', 0.79),\n",
              " ('Foo Fighters', 'Rock', 0.77),\n",
              " ('Gilberto Gil', 'Latin', 0.65),\n",
              " (\"Guns N' Roses\", 'Rock', 0.72),\n",
              " ('Heroes', 'Drama', 0.85),\n",
              " ('Iron Maiden', 'Metal', 0.5),\n",
              " ('Jamiroquai', 'R&B/Soul', 0.39),\n",
              " ('Lenny Kravitz', 'Rock', 0.5),\n",
              " ('Lost', 'TV Shows', 0.56),\n",
              " ('Ozzy Osbourne', 'Rock', 0.58),\n",
              " ('Pearl Jam', 'Rock', 0.81),\n",
              " ('R.E.M.', 'Alternative & Punk', 0.64),\n",
              " ('Red Hot Chili Peppers', 'Rock', 0.63),\n",
              " ('The Office', 'TV Shows', 0.64),\n",
              " ('U2', 'Rock', 0.85),\n",
              " ('Various Artists', 'Latin', 0.59)]"
            ]
          },
          "execution_count": 12,
          "metadata": {},
          "output_type": "execute_result"
        }
      ],
      "source": [
        "%%sql\n",
        "WITH ArtistGenreEarnings AS (\n",
        "    SELECT \n",
        "        artists.ArtistId,\n",
        "        artists.Name AS ArtistName,\n",
        "        genres.Name AS GenreName,\n",
        "        SUM(invoice_items.UnitPrice * invoice_items.Quantity) AS GenreEarnings\n",
        "    FROM \n",
        "        invoice_items\n",
        "    JOIN tracks ON invoice_items.TrackId = tracks.TrackId\n",
        "    JOIN albums ON tracks.AlbumId = albums.AlbumId\n",
        "    JOIN artists ON albums.ArtistId = artists.ArtistId\n",
        "    JOIN genres ON tracks.GenreId = genres.GenreId\n",
        "    GROUP BY artists.ArtistId, genres.Name\n",
        "),\n",
        "TotalEarnings AS (\n",
        "    SELECT \n",
        "        ArtistId,\n",
        "        SUM(GenreEarnings) AS TotalArtistEarnings\n",
        "    FROM \n",
        "        ArtistGenreEarnings\n",
        "    GROUP BY ArtistId\n",
        "),\n",
        "MaxEarnings AS (\n",
        "    SELECT \n",
        "        ArtistId,\n",
        "        MAX(GenreEarnings) AS MaxEarnings\n",
        "    FROM \n",
        "        ArtistGenreEarnings\n",
        "    GROUP BY ArtistId\n",
        "),\n",
        "ArtistMaxGenre AS (\n",
        "    SELECT \n",
        "        ArtistGenreEarnings.ArtistId,\n",
        "        ArtistGenreEarnings.ArtistName,\n",
        "        ArtistGenreEarnings.GenreName,\n",
        "        ArtistGenreEarnings.GenreEarnings\n",
        "    FROM \n",
        "        ArtistGenreEarnings\n",
        "    JOIN MaxEarnings ON ArtistGenreEarnings.ArtistId = MaxEarnings.ArtistId \n",
        "        AND ArtistGenreEarnings.GenreEarnings = MaxEarnings.MaxEarnings\n",
        "),\n",
        "ArtistGenreCount AS (\n",
        "    SELECT \n",
        "        ArtistId, \n",
        "        COUNT(DISTINCT GenreName) AS GenreCount\n",
        "    FROM \n",
        "        ArtistGenreEarnings\n",
        "    GROUP BY ArtistId\n",
        "    HAVING GenreCount > 1\n",
        ")\n",
        "SELECT \n",
        "    ag.ArtistName,\n",
        "    ag.GenreName,\n",
        "    ROUND((ag.GenreEarnings / te.TotalArtistEarnings), 2) AS EarningsRatio\n",
        "FROM \n",
        "    ArtistMaxGenre ag\n",
        "JOIN TotalEarnings te ON ag.ArtistId = te.ArtistId\n",
        "JOIN ArtistGenreCount agc ON ag.ArtistId = agc.ArtistId\n",
        "ORDER BY \n",
        "    ag.ArtistName, \n",
        "    ag.GenreName;\n"
      ]
    }
  ],
  "metadata": {
    "colab": {
      "provenance": []
    },
    "kernelspec": {
      "display_name": "Python 3",
      "language": "python",
      "name": "python3"
    },
    "language_info": {
      "codemirror_mode": {
        "name": "ipython",
        "version": 3
      },
      "file_extension": ".py",
      "mimetype": "text/x-python",
      "name": "python",
      "nbconvert_exporter": "python",
      "pygments_lexer": "ipython3",
      "version": "3.11.4"
    }
  },
  "nbformat": 4,
  "nbformat_minor": 0
}
