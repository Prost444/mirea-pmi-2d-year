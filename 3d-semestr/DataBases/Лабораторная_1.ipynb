{
  "cells": [
    {
      "cell_type": "markdown",
      "metadata": {
        "colab_type": "text",
        "id": "view-in-github"
      },
      "source": [
        "<a href=\"https://colab.research.google.com/github/Prost444/mirea-pmi-2d-year/blob/main/3d-semestr/AI/%D0%9B%D0%B0%D0%B1%D0%BE%D1%80%D0%B0%D1%82%D0%BE%D1%80%D0%BD%D0%B0%D1%8F_1.ipynb\" target=\"_parent\"><img src=\"https://colab.research.google.com/assets/colab-badge.svg\" alt=\"Open In Colab\"/></a>"
      ]
    },
    {
      "cell_type": "markdown",
      "metadata": {
        "id": "s5oU2Q5R3f3n"
      },
      "source": [
        "Проверим, что у вас подключена возможность работы с SQL"
      ]
    },
    {
      "cell_type": "code",
      "execution_count": null,
      "metadata": {
        "id": "ct9OpQ853f3n"
      },
      "outputs": [],
      "source": [
        "%load_ext sql\n",
        "%sql sqlite://"
      ]
    },
    {
      "cell_type": "markdown",
      "metadata": {
        "id": "nMjULTOr3f3p"
      },
      "source": [
        "Создадим таблицу специальностей со следующими полями:\n",
        "1. id - уникальный идентификатор специальности\n",
        "2. Name - Специальность"
      ]
    },
    {
      "cell_type": "code",
      "execution_count": null,
      "metadata": {
        "colab": {
          "base_uri": "https://localhost:8080/"
        },
        "id": "ZjlRJsr63f3p",
        "outputId": "8c6cbf01-0cd1-4702-f169-27c2c1302830"
      },
      "outputs": [
        {
          "name": "stdout",
          "output_type": "stream",
          "text": [
            " * sqlite://\n",
            "Done.\n",
            "Done.\n",
            "Done.\n"
          ]
        },
        {
          "data": {
            "text/plain": [
              "[]"
            ]
          },
          "execution_count": 2,
          "metadata": {},
          "output_type": "execute_result"
        }
      ],
      "source": [
        "%%sql\n",
        "drop table if exists Students;\n",
        "drop table if exists Specialities;\n",
        "\n",
        "CREATE TABLE Specialities\n",
        "(\n",
        "    id integer primary key,\n",
        "    Name varchar(50)\n",
        ");"
      ]
    },
    {
      "cell_type": "markdown",
      "metadata": {
        "id": "vNpV5jjw3f3q"
      },
      "source": [
        "Проверим, что таблица создана"
      ]
    },
    {
      "cell_type": "code",
      "execution_count": null,
      "metadata": {
        "colab": {
          "base_uri": "https://localhost:8080/",
          "height": 76
        },
        "id": "PHGSKu2-3f3q",
        "outputId": "9a3cfc9e-7e32-4bd4-b3d9-1990b1eaefac"
      },
      "outputs": [
        {
          "name": "stdout",
          "output_type": "stream",
          "text": [
            " * sqlite://\n",
            "Done.\n"
          ]
        },
        {
          "data": {
            "text/html": [
              "<table>\n",
              "    <thead>\n",
              "        <tr>\n",
              "            <th>id</th>\n",
              "            <th>Name</th>\n",
              "        </tr>\n",
              "    </thead>\n",
              "    <tbody>\n",
              "    </tbody>\n",
              "</table>"
            ],
            "text/plain": [
              "[]"
            ]
          },
          "execution_count": 3,
          "metadata": {},
          "output_type": "execute_result"
        }
      ],
      "source": [
        "%sql select * from Specialities"
      ]
    },
    {
      "cell_type": "code",
      "execution_count": null,
      "metadata": {
        "colab": {
          "base_uri": "https://localhost:8080/"
        },
        "id": "ffoy8GBQ3f3r",
        "outputId": "f208e52a-2464-434d-8a2b-7c4e48f49860"
      },
      "outputs": [
        {
          "name": "stdout",
          "output_type": "stream",
          "text": [
            " * sqlite://\n",
            "1 rows affected.\n",
            "1 rows affected.\n",
            "1 rows affected.\n",
            "1 rows affected.\n",
            "1 rows affected.\n",
            "1 rows affected.\n",
            "1 rows affected.\n"
          ]
        },
        {
          "data": {
            "text/plain": [
              "[]"
            ]
          },
          "execution_count": 4,
          "metadata": {},
          "output_type": "execute_result"
        }
      ],
      "source": [
        "%%sql\n",
        "insert Into Specialities(id, name) values (1, 'Биотехнические системы и технологии');\n",
        "insert Into Specialities(id, name) values (2, 'Компьютерная безопасность');\n",
        "insert Into Specialities(id, name) values (3, 'Прикладная математика и информатика');\n",
        "insert Into Specialities(id, name) values (4, 'Мехатроника и робототехника');\n",
        "insert Into Specialities(id, name) values (5, 'Системный анализ и управление');\n",
        "insert Into Specialities(id, name) values (6, 'Информационная безопасность телекоммуникационных систем');\n",
        "insert Into Specialities(id, name) values (7, 'Управление в технических системах');"
      ]
    },
    {
      "cell_type": "markdown",
      "metadata": {
        "id": "NNU1lQAT3f3q"
      },
      "source": [
        "Заполним таблицу данными"
      ]
    },
    {
      "cell_type": "markdown",
      "metadata": {
        "id": "Nbtm_2rx3f3r"
      },
      "source": [
        "SQLite требует включение поддержки внешних ключей.\n",
        "Более подробно можно посмотреть [здесь](https://sqlite.org/foreignkeys.html)"
      ]
    },
    {
      "cell_type": "code",
      "execution_count": null,
      "metadata": {
        "colab": {
          "base_uri": "https://localhost:8080/"
        },
        "id": "QOcQJLCr3f3r",
        "outputId": "3870b263-b5eb-4542-fdfd-bd2d8895a23e"
      },
      "outputs": [
        {
          "name": "stdout",
          "output_type": "stream",
          "text": [
            " * sqlite://\n",
            "Done.\n"
          ]
        },
        {
          "data": {
            "text/plain": [
              "[]"
            ]
          },
          "execution_count": 5,
          "metadata": {},
          "output_type": "execute_result"
        }
      ],
      "source": [
        "%%sql\n",
        "PRAGMA foreign_keys = ON;"
      ]
    },
    {
      "cell_type": "markdown",
      "metadata": {
        "id": "CMPVyr0G3f3s"
      },
      "source": [
        "Создадим таблицу Студентов со следующими полями:\n",
        "1. Student_id - уникальный идентификатор студента\n",
        "2. Name - имя студента\n",
        "3. Second Name - фамилия студента\n",
        "4. Speciality - специальность студента\n",
        "5. StudyGroup - группа студента\n",
        "6. GPA - средний балл"
      ]
    },
    {
      "cell_type": "code",
      "execution_count": null,
      "metadata": {
        "colab": {
          "base_uri": "https://localhost:8080/"
        },
        "id": "iH4QwAPL3f3s",
        "outputId": "64e85dcb-c93c-4c50-8fe1-387171b6668d"
      },
      "outputs": [
        {
          "name": "stdout",
          "output_type": "stream",
          "text": [
            " * sqlite://\n",
            "Done.\n",
            "Done.\n"
          ]
        },
        {
          "data": {
            "text/plain": [
              "[]"
            ]
          },
          "execution_count": 6,
          "metadata": {},
          "output_type": "execute_result"
        }
      ],
      "source": [
        "%%sql\n",
        "drop table if exists Students;\n",
        "\n",
        "CREATE TABLE Students\n",
        "(\n",
        "    student_id integer primary key,\n",
        "    Name varchar(50),\n",
        "    SecondName varchar(50),\n",
        "    Speciality_id integer ,\n",
        "    StudyGroup varchar(20),\n",
        "    GPA number,\n",
        "    foreign key(Speciality_id) references Specialities(id)\n",
        ");"
      ]
    },
    {
      "cell_type": "markdown",
      "metadata": {
        "id": "9hb9w8oC3f3s"
      },
      "source": [
        "Проверим, что таблица создана"
      ]
    },
    {
      "cell_type": "code",
      "execution_count": null,
      "metadata": {
        "colab": {
          "base_uri": "https://localhost:8080/",
          "height": 75
        },
        "id": "6IMmHj9J3f3s",
        "outputId": "7680ecb5-d85b-46de-c9e5-700edb877579"
      },
      "outputs": [
        {
          "name": "stdout",
          "output_type": "stream",
          "text": [
            " * sqlite://\n",
            "Done.\n"
          ]
        },
        {
          "data": {
            "text/html": [
              "<table>\n",
              "    <thead>\n",
              "        <tr>\n",
              "            <th>student_id</th>\n",
              "            <th>Name</th>\n",
              "            <th>SecondName</th>\n",
              "            <th>Speciality_id</th>\n",
              "            <th>StudyGroup</th>\n",
              "            <th>GPA</th>\n",
              "        </tr>\n",
              "    </thead>\n",
              "    <tbody>\n",
              "    </tbody>\n",
              "</table>"
            ],
            "text/plain": [
              "[]"
            ]
          },
          "execution_count": 7,
          "metadata": {},
          "output_type": "execute_result"
        }
      ],
      "source": [
        "%sql select * from Students"
      ]
    },
    {
      "cell_type": "code",
      "execution_count": null,
      "metadata": {
        "colab": {
          "base_uri": "https://localhost:8080/"
        },
        "id": "PISGbGrC3f3t",
        "outputId": "3612ffb2-2e85-4e27-de32-c7363edf7f5e"
      },
      "outputs": [
        {
          "name": "stdout",
          "output_type": "stream",
          "text": [
            " * sqlite://\n",
            "1 rows affected.\n",
            "1 rows affected.\n",
            "1 rows affected.\n",
            "1 rows affected.\n",
            "1 rows affected.\n",
            "1 rows affected.\n",
            "1 rows affected.\n",
            "1 rows affected.\n",
            "1 rows affected.\n",
            "1 rows affected.\n",
            "1 rows affected.\n",
            "1 rows affected.\n",
            "1 rows affected.\n",
            "1 rows affected.\n"
          ]
        },
        {
          "data": {
            "text/plain": [
              "[]"
            ]
          },
          "execution_count": 7,
          "metadata": {},
          "output_type": "execute_result"
        }
      ],
      "source": [
        "%%sql\n",
        "insert into Students(student_id, SecondName, Name, Speciality_id, StudyGroup, GPA) VALUES (1, 'Альянов', 'Николай', 1, '04-20', 3.58);\n",
        "insert into Students(student_id, SecondName, Name, Speciality_id, StudyGroup, GPA) VALUES (2, 'Крыгина', 'Ева', 1, '01-20', 4.58);\n",
        "insert into Students(student_id, SecondName, Name, Speciality_id, StudyGroup, GPA) VALUES (3, 'Исаева', 'Анна', 1, '01-20', 4.75);\n",
        "insert into Students(student_id, SecondName, Name, Speciality_id, StudyGroup, GPA) VALUES (4, 'Егоров', 'Павел', 2, '01-20', 4.83);\n",
        "insert into Students(student_id, SecondName, Name, Speciality_id, StudyGroup, GPA) VALUES (5, 'Тихомиров', 'Тимофей', 2, '03-20', 4.18);\n",
        "insert into Students(student_id, SecondName, Name, Speciality_id, StudyGroup, GPA) VALUES (6, 'Ширшов', 'Александр', 2, '06-20', 3.91);\n",
        "insert into Students(student_id, SecondName, Name, Speciality_id, StudyGroup, GPA) VALUES (7, 'Фатеев', 'Максим', 3, '05-20', 3.8);\n",
        "insert into Students(student_id, SecondName, Name, Speciality_id, StudyGroup, GPA) VALUES (8, 'Киселев', 'Петр',  3, '05-20', 3.5);\n",
        "insert into Students(student_id, SecondName, Name, Speciality_id, StudyGroup, GPA) VALUES (9, 'Агашкина', 'Дарья', 4, '02-20', 4.18);\n",
        "insert into Students(student_id, SecondName, Name, Speciality_id, StudyGroup, GPA) VALUES (10, 'Горин', 'Олег', 5, '01-20', 3.89);\n",
        "insert into Students(student_id, SecondName, Name, Speciality_id, StudyGroup, GPA) VALUES (11, 'Комарова', 'Екатерина', 6, '02-20', 4.83);\n",
        "insert into Students(student_id, SecondName, Name, Speciality_id, StudyGroup, GPA) VALUES (12, 'Челыхов', 'Иван', 6, '06-20', 4.45);\n",
        "insert into Students(student_id, SecondName, Name, Speciality_id, StudyGroup, GPA) VALUES (13, 'Назаров', 'Александр', 6, '06-20', 3.73);\n",
        "insert into Students(student_id, SecondName, Name, Speciality_id, StudyGroup, GPA) VALUES (14, 'Горлова', 'Ксения', 7, '01-20', 5);"
      ]
    },
    {
      "cell_type": "markdown",
      "metadata": {
        "id": "5rUU1gfv3f3t"
      },
      "source": [
        "Заполним таблицу данными"
      ]
    },
    {
      "cell_type": "markdown",
      "metadata": {
        "id": "ikX4Z-jW3f3t"
      },
      "source": [
        "Проверим наличие данных"
      ]
    },
    {
      "cell_type": "code",
      "execution_count": null,
      "metadata": {
        "colab": {
          "base_uri": "https://localhost:8080/",
          "height": 374
        },
        "id": "eq9zXRxN3f3u",
        "outputId": "d3a5cfce-5dd3-4c11-9aaa-44388f8fa470"
      },
      "outputs": [
        {
          "name": "stdout",
          "output_type": "stream",
          "text": [
            " * sqlite://\n",
            "Done.\n"
          ]
        },
        {
          "data": {
            "text/html": [
              "<table>\n",
              "    <thead>\n",
              "        <tr>\n",
              "            <th>student_id</th>\n",
              "            <th>Name</th>\n",
              "            <th>SecondName</th>\n",
              "            <th>Speciality_id</th>\n",
              "            <th>StudyGroup</th>\n",
              "            <th>GPA</th>\n",
              "        </tr>\n",
              "    </thead>\n",
              "    <tbody>\n",
              "        <tr>\n",
              "            <td>1</td>\n",
              "            <td>Николай</td>\n",
              "            <td>Альянов</td>\n",
              "            <td>1</td>\n",
              "            <td>04-20</td>\n",
              "            <td>3.58</td>\n",
              "        </tr>\n",
              "        <tr>\n",
              "            <td>2</td>\n",
              "            <td>Ева</td>\n",
              "            <td>Крыгина</td>\n",
              "            <td>1</td>\n",
              "            <td>01-20</td>\n",
              "            <td>4.58</td>\n",
              "        </tr>\n",
              "        <tr>\n",
              "            <td>3</td>\n",
              "            <td>Анна</td>\n",
              "            <td>Исаева</td>\n",
              "            <td>1</td>\n",
              "            <td>01-20</td>\n",
              "            <td>4.75</td>\n",
              "        </tr>\n",
              "        <tr>\n",
              "            <td>4</td>\n",
              "            <td>Павел</td>\n",
              "            <td>Егоров</td>\n",
              "            <td>2</td>\n",
              "            <td>01-20</td>\n",
              "            <td>4.83</td>\n",
              "        </tr>\n",
              "        <tr>\n",
              "            <td>5</td>\n",
              "            <td>Тимофей</td>\n",
              "            <td>Тихомиров</td>\n",
              "            <td>2</td>\n",
              "            <td>03-20</td>\n",
              "            <td>4.18</td>\n",
              "        </tr>\n",
              "        <tr>\n",
              "            <td>6</td>\n",
              "            <td>Александр</td>\n",
              "            <td>Ширшов</td>\n",
              "            <td>2</td>\n",
              "            <td>06-20</td>\n",
              "            <td>3.91</td>\n",
              "        </tr>\n",
              "        <tr>\n",
              "            <td>7</td>\n",
              "            <td>Максим</td>\n",
              "            <td>Фатеев</td>\n",
              "            <td>3</td>\n",
              "            <td>05-20</td>\n",
              "            <td>3.8</td>\n",
              "        </tr>\n",
              "        <tr>\n",
              "            <td>8</td>\n",
              "            <td>Петр</td>\n",
              "            <td>Киселев</td>\n",
              "            <td>3</td>\n",
              "            <td>05-20</td>\n",
              "            <td>3.5</td>\n",
              "        </tr>\n",
              "        <tr>\n",
              "            <td>9</td>\n",
              "            <td>Дарья</td>\n",
              "            <td>Агашкина</td>\n",
              "            <td>4</td>\n",
              "            <td>02-20</td>\n",
              "            <td>4.18</td>\n",
              "        </tr>\n",
              "        <tr>\n",
              "            <td>10</td>\n",
              "            <td>Олег</td>\n",
              "            <td>Горин</td>\n",
              "            <td>5</td>\n",
              "            <td>01-20</td>\n",
              "            <td>3.89</td>\n",
              "        </tr>\n",
              "        <tr>\n",
              "            <td>11</td>\n",
              "            <td>Виктория</td>\n",
              "            <td>Комарова</td>\n",
              "            <td>6</td>\n",
              "            <td>02-20</td>\n",
              "            <td>4.83</td>\n",
              "        </tr>\n",
              "        <tr>\n",
              "            <td>12</td>\n",
              "            <td>Иван</td>\n",
              "            <td>Челыхов</td>\n",
              "            <td>6</td>\n",
              "            <td>06-20</td>\n",
              "            <td>4.45</td>\n",
              "        </tr>\n",
              "        <tr>\n",
              "            <td>13</td>\n",
              "            <td>Александр</td>\n",
              "            <td>Назаров</td>\n",
              "            <td>6</td>\n",
              "            <td>06-20</td>\n",
              "            <td>3.73</td>\n",
              "        </tr>\n",
              "        <tr>\n",
              "            <td>14</td>\n",
              "            <td>Ксения</td>\n",
              "            <td>Горлова</td>\n",
              "            <td>7</td>\n",
              "            <td>01-20</td>\n",
              "            <td>5</td>\n",
              "        </tr>\n",
              "    </tbody>\n",
              "</table>"
            ],
            "text/plain": [
              "[(1, 'Николай', 'Альянов', 1, '04-20', 3.58),\n",
              " (2, 'Ева', 'Крыгина', 1, '01-20', 4.58),\n",
              " (3, 'Анна', 'Исаева', 1, '01-20', 4.75),\n",
              " (4, 'Павел', 'Егоров', 2, '01-20', 4.83),\n",
              " (5, 'Тимофей', 'Тихомиров', 2, '03-20', 4.18),\n",
              " (6, 'Александр', 'Ширшов', 2, '06-20', 3.91),\n",
              " (7, 'Максим', 'Фатеев', 3, '05-20', 3.8),\n",
              " (8, 'Петр', 'Киселев', 3, '05-20', 3.5),\n",
              " (9, 'Дарья', 'Агашкина', 4, '02-20', 4.18),\n",
              " (10, 'Олег', 'Горин', 5, '01-20', 3.89),\n",
              " (11, 'Виктория', 'Комарова', 6, '02-20', 4.83),\n",
              " (12, 'Иван', 'Челыхов', 6, '06-20', 4.45),\n",
              " (13, 'Александр', 'Назаров', 6, '06-20', 3.73),\n",
              " (14, 'Ксения', 'Горлова', 7, '01-20', 5)]"
            ]
          },
          "execution_count": 9,
          "metadata": {},
          "output_type": "execute_result"
        }
      ],
      "source": [
        "%sql select * from Students"
      ]
    },
    {
      "cell_type": "code",
      "execution_count": null,
      "metadata": {
        "colab": {
          "base_uri": "https://localhost:8080/",
          "height": 225
        },
        "id": "yYtrbXwa3f3u",
        "outputId": "80be7ca3-3a53-4fe9-9da3-0ffc641d22d0"
      },
      "outputs": [
        {
          "name": "stdout",
          "output_type": "stream",
          "text": [
            " * sqlite://\n",
            "Done.\n"
          ]
        },
        {
          "data": {
            "text/html": [
              "<table>\n",
              "    <thead>\n",
              "        <tr>\n",
              "            <th>id</th>\n",
              "            <th>Name</th>\n",
              "        </tr>\n",
              "    </thead>\n",
              "    <tbody>\n",
              "        <tr>\n",
              "            <td>1</td>\n",
              "            <td>Биотехнические системы и технологии</td>\n",
              "        </tr>\n",
              "        <tr>\n",
              "            <td>2</td>\n",
              "            <td>Компьютерная безопасность</td>\n",
              "        </tr>\n",
              "        <tr>\n",
              "            <td>3</td>\n",
              "            <td>Прикладная математика и информатика</td>\n",
              "        </tr>\n",
              "        <tr>\n",
              "            <td>4</td>\n",
              "            <td>Мехатроника и робототехника</td>\n",
              "        </tr>\n",
              "        <tr>\n",
              "            <td>5</td>\n",
              "            <td>Системный анализ и управление</td>\n",
              "        </tr>\n",
              "        <tr>\n",
              "            <td>6</td>\n",
              "            <td>Информационная безопасность телекоммуникационных систем</td>\n",
              "        </tr>\n",
              "        <tr>\n",
              "            <td>7</td>\n",
              "            <td>Управление в технических системах</td>\n",
              "        </tr>\n",
              "    </tbody>\n",
              "</table>"
            ],
            "text/plain": [
              "[(1, 'Биотехнические системы и технологии'),\n",
              " (2, 'Компьютерная безопасность'),\n",
              " (3, 'Прикладная математика и информатика'),\n",
              " (4, 'Мехатроника и робототехника'),\n",
              " (5, 'Системный анализ и управление'),\n",
              " (6, 'Информационная безопасность телекоммуникационных систем'),\n",
              " (7, 'Управление в технических системах')]"
            ]
          },
          "execution_count": 10,
          "metadata": {},
          "output_type": "execute_result"
        }
      ],
      "source": [
        "%sql select * from Specialities"
      ]
    },
    {
      "cell_type": "markdown",
      "metadata": {
        "id": "aC50VcAG3f3u"
      },
      "source": [
        "## Задание 1. Напишите SQL-запрос, возвращающий фамилии всех студентов с именем Александр"
      ]
    },
    {
      "cell_type": "code",
      "execution_count": null,
      "metadata": {
        "colab": {
          "base_uri": "https://localhost:8080/",
          "height": 119
        },
        "id": "LNHUYlRElNNm",
        "outputId": "74d5f318-280b-4689-dbbb-50b6770035c8"
      },
      "outputs": [
        {
          "name": "stdout",
          "output_type": "stream",
          "text": [
            " * sqlite://\n",
            "Done.\n"
          ]
        },
        {
          "data": {
            "text/html": [
              "<table>\n",
              "    <thead>\n",
              "        <tr>\n",
              "            <th>SecondName</th>\n",
              "        </tr>\n",
              "    </thead>\n",
              "    <tbody>\n",
              "        <tr>\n",
              "            <td>Ширшов</td>\n",
              "        </tr>\n",
              "        <tr>\n",
              "            <td>Назаров</td>\n",
              "        </tr>\n",
              "    </tbody>\n",
              "</table>"
            ],
            "text/plain": [
              "[('Ширшов',), ('Назаров',)]"
            ]
          },
          "execution_count": 13,
          "metadata": {},
          "output_type": "execute_result"
        }
      ],
      "source": [
        "%%sql\n",
        "SELECT SecondName\n",
        "FROM Students\n",
        "WHERE Name == \"Александр\";"
      ]
    },
    {
      "cell_type": "markdown",
      "metadata": {
        "id": "Hi4QfjHx3f3v"
      },
      "source": [
        "## Задание 2. Выведите все названия специальностей, на которых учится хотя бы один студент со средним баллом 4.5 и выше. Имя специальности должно встречаться один раз в выводе"
      ]
    },
    {
      "cell_type": "code",
      "execution_count": null,
      "metadata": {
        "colab": {
          "base_uri": "https://localhost:8080/",
          "height": 162
        },
        "id": "RH5DOJz83f3v",
        "outputId": "918975ad-886d-45a4-8ebc-a7ccfc2d469f"
      },
      "outputs": [
        {
          "name": "stdout",
          "output_type": "stream",
          "text": [
            " * sqlite://\n",
            "Done.\n"
          ]
        },
        {
          "data": {
            "text/html": [
              "<table>\n",
              "    <thead>\n",
              "        <tr>\n",
              "            <th>Name</th>\n",
              "        </tr>\n",
              "    </thead>\n",
              "    <tbody>\n",
              "        <tr>\n",
              "            <td>Биотехнические системы и технологии</td>\n",
              "        </tr>\n",
              "        <tr>\n",
              "            <td>Компьютерная безопасность</td>\n",
              "        </tr>\n",
              "        <tr>\n",
              "            <td>Информационная безопасность телекоммуникационных систем</td>\n",
              "        </tr>\n",
              "        <tr>\n",
              "            <td>Управление в технических системах</td>\n",
              "        </tr>\n",
              "    </tbody>\n",
              "</table>"
            ],
            "text/plain": [
              "[('Биотехнические системы и технологии',),\n",
              " ('Компьютерная безопасность',),\n",
              " ('Информационная безопасность телекоммуникационных систем',),\n",
              " ('Управление в технических системах',)]"
            ]
          },
          "execution_count": 19,
          "metadata": {},
          "output_type": "execute_result"
        }
      ],
      "source": [
        "%%sql\n",
        "SELECT DISTINCT Specialities.Name\n",
        "FROM Specialities, Students\n",
        "WHERE Speciality_id\t== id and GPA >= 4.5;"
      ]
    },
    {
      "cell_type": "markdown",
      "metadata": {
        "collapsed": true,
        "id": "tjapuoH13f3v"
      },
      "source": [
        "## Задание 3. Вывести только тех студентов, фамилия которых начинается с буквы 'к', а в имени есть буква 'е'."
      ]
    },
    {
      "cell_type": "code",
      "execution_count": null,
      "metadata": {
        "colab": {
          "base_uri": "https://localhost:8080/",
          "height": 119
        },
        "id": "_0dw3OJm3f3v",
        "outputId": "5890b895-d673-44ee-e072-7c9d02debe9b"
      },
      "outputs": [
        {
          "name": "stdout",
          "output_type": "stream",
          "text": [
            " * sqlite://\n",
            "Done.\n"
          ]
        },
        {
          "data": {
            "text/html": [
              "<table>\n",
              "    <thead>\n",
              "        <tr>\n",
              "            <th>student_id</th>\n",
              "            <th>Name</th>\n",
              "            <th>SecondName</th>\n",
              "            <th>Speciality_id</th>\n",
              "            <th>StudyGroup</th>\n",
              "            <th>GPA</th>\n",
              "        </tr>\n",
              "    </thead>\n",
              "    <tbody>\n",
              "        <tr>\n",
              "            <td>8</td>\n",
              "            <td>Петр</td>\n",
              "            <td>Киселев</td>\n",
              "            <td>3</td>\n",
              "            <td>05-20</td>\n",
              "            <td>3.5</td>\n",
              "        </tr>\n",
              "        <tr>\n",
              "            <td>11</td>\n",
              "            <td>Екатерина</td>\n",
              "            <td>Комарова</td>\n",
              "            <td>6</td>\n",
              "            <td>02-20</td>\n",
              "            <td>4.83</td>\n",
              "        </tr>\n",
              "    </tbody>\n",
              "</table>"
            ],
            "text/plain": [
              "[(8, 'Петр', 'Киселев', 3, '05-20', 3.5),\n",
              " (11, 'Екатерина', 'Комарова', 6, '02-20', 4.83)]"
            ]
          },
          "execution_count": 33,
          "metadata": {},
          "output_type": "execute_result"
        }
      ],
      "source": [
        "%%sql\n",
        "SELECT *\n",
        "FROM Students\n",
        "WHERE substr(SecondName, 1, 1) == 'К' and instr(Name, 'е') != 0;"
      ]
    },
    {
      "cell_type": "markdown",
      "metadata": {
        "id": "0TS2W3aV3f3v"
      },
      "source": [
        "## Задание 4. Вывести специальности (+ их средние баллы), количество групп в которых больше одной"
      ]
    },
    {
      "cell_type": "code",
      "execution_count": null,
      "metadata": {
        "colab": {
          "base_uri": "https://localhost:8080/",
          "height": 140
        },
        "collapsed": true,
        "id": "uRgmhus13f3w",
        "outputId": "3b120029-a067-4544-b559-6ec313d6378d"
      },
      "outputs": [
        {
          "name": "stdout",
          "output_type": "stream",
          "text": [
            " * sqlite://\n",
            "Done.\n"
          ]
        },
        {
          "data": {
            "text/html": [
              "<table>\n",
              "    <thead>\n",
              "        <tr>\n",
              "            <th>Name</th>\n",
              "            <th>avg(GPA)</th>\n",
              "        </tr>\n",
              "    </thead>\n",
              "    <tbody>\n",
              "        <tr>\n",
              "            <td>Биотехнические системы и технологии</td>\n",
              "            <td>4.303333333333334</td>\n",
              "        </tr>\n",
              "        <tr>\n",
              "            <td>Информационная безопасность телекоммуникационных систем</td>\n",
              "            <td>4.336666666666667</td>\n",
              "        </tr>\n",
              "        <tr>\n",
              "            <td>Компьютерная безопасность</td>\n",
              "            <td>4.306666666666667</td>\n",
              "        </tr>\n",
              "    </tbody>\n",
              "</table>"
            ],
            "text/plain": [
              "[('Биотехнические системы и технологии', 4.303333333333334),\n",
              " ('Информационная безопасность телекоммуникационных систем', 4.336666666666667),\n",
              " ('Компьютерная безопасность', 4.306666666666667)]"
            ]
          },
          "execution_count": 51,
          "metadata": {},
          "output_type": "execute_result"
        }
      ],
      "source": [
        "%%sql\n",
        "SELECT Specialities.Name, avg(GPA)\n",
        "FROM Specialities, Students\n",
        "WHERE Speciality_id\t== id\n",
        "group by Specialities.Name\n",
        "HAVING count(distinct StudyGroup) > 1;"
      ]
    },
    {
      "cell_type": "markdown",
      "metadata": {
        "id": "msNP-JhP3f3w"
      },
      "source": [
        "## Задание 5. Для всех специальностей вывести средний балл по специальности для студентов, в чьей фамилия вторая буква НЕ 'а', при условии, что количество таких студентов на специальности не менее 2. В обратном случае, специальность выводить не требуется"
      ]
    },
    {
      "cell_type": "code",
      "execution_count": 52,
      "metadata": {
        "colab": {
          "base_uri": "https://localhost:8080/",
          "height": 140
        },
        "id": "XvQ0SwGB3f3w",
        "outputId": "2b5a8232-9ae0-41e6-857d-ebb08137486a"
      },
      "outputs": [
        {
          "name": "stdout",
          "output_type": "stream",
          "text": [
            " * sqlite://\n",
            "Done.\n"
          ]
        },
        {
          "data": {
            "text/html": [
              "<table>\n",
              "    <thead>\n",
              "        <tr>\n",
              "            <th>Name</th>\n",
              "            <th>avg(GPA)</th>\n",
              "        </tr>\n",
              "    </thead>\n",
              "    <tbody>\n",
              "        <tr>\n",
              "            <td>Биотехнические системы и технологии</td>\n",
              "            <td>4.303333333333334</td>\n",
              "        </tr>\n",
              "        <tr>\n",
              "            <td>Информационная безопасность телекоммуникационных систем</td>\n",
              "            <td>4.336666666666667</td>\n",
              "        </tr>\n",
              "        <tr>\n",
              "            <td>Компьютерная безопасность</td>\n",
              "            <td>4.306666666666667</td>\n",
              "        </tr>\n",
              "    </tbody>\n",
              "</table>"
            ],
            "text/plain": [
              "[('Биотехнические системы и технологии', 4.303333333333334),\n",
              " ('Информационная безопасность телекоммуникационных систем', 4.336666666666667),\n",
              " ('Компьютерная безопасность', 4.306666666666667)]"
            ]
          },
          "execution_count": 52,
          "metadata": {},
          "output_type": "execute_result"
        }
      ],
      "source": [
        "%%sql\n",
        "SELECT Specialities.Name, avg(GPA)\n",
        "FROM Specialities, Students\n",
        "WHERE Speciality_id\t== id\n",
        "group by Specialities.Name\n",
        "HAVING count(substr(SecondName, 2, 1) != 'а') > 2;"
      ]
    }
  ],
  "metadata": {
    "colab": {
      "include_colab_link": true,
      "provenance": []
    },
    "kernelspec": {
      "display_name": "Python 3",
      "language": "python",
      "name": "python3"
    },
    "language_info": {
      "codemirror_mode": {
        "name": "ipython",
        "version": 3
      },
      "file_extension": ".py",
      "mimetype": "text/x-python",
      "name": "python",
      "nbconvert_exporter": "python",
      "pygments_lexer": "ipython3",
      "version": "3.8.8"
    }
  },
  "nbformat": 4,
  "nbformat_minor": 0
}
