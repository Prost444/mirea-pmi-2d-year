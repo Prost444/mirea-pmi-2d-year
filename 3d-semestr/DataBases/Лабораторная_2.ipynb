{
  "nbformat": 4,
  "nbformat_minor": 0,
  "metadata": {
    "kernelspec": {
      "display_name": "Python 3",
      "language": "python",
      "name": "python3"
    },
    "language_info": {
      "codemirror_mode": {
        "name": "ipython",
        "version": 3
      },
      "file_extension": ".py",
      "mimetype": "text/x-python",
      "name": "python",
      "nbconvert_exporter": "python",
      "pygments_lexer": "ipython3",
      "version": "3.7.6"
    },
    "colab": {
      "provenance": []
    }
  },
  "cells": [
    {
      "cell_type": "code",
      "metadata": {
        "id": "exFkotWz7Lk_"
      },
      "source": [
        "%load_ext sql\n",
        "%sql sqlite:///chinook.db"
      ],
      "execution_count": null,
      "outputs": []
    },
    {
      "cell_type": "markdown",
      "metadata": {
        "id": "IwJ_E91n7LlD"
      },
      "source": [
        "## Задание 1\n",
        "Вывести названия всех групп, их песен и названия их альбомов для всех треков жанра Rock, приобретенные сотрудниками Microsoft.\n"
      ]
    },
    {
      "cell_type": "code",
      "metadata": {
        "id": "9b5SWBYUCqmy"
      },
      "source": [],
      "execution_count": null,
      "outputs": []
    },
    {
      "cell_type": "markdown",
      "metadata": {
        "id": "eEAq-gUB7LlF"
      },
      "source": [
        "## Задание 2\n",
        "Вывести 10 самых больших по размеру треков жанра Blues и формата MPEG (используйте команду LIMIT 10). Только название и автор.\n"
      ]
    },
    {
      "cell_type": "code",
      "metadata": {
        "id": "LQxLAdI3CrDC"
      },
      "source": [],
      "execution_count": null,
      "outputs": []
    },
    {
      "cell_type": "markdown",
      "metadata": {
        "id": "0mmLXQXr7LlG"
      },
      "source": [
        "## Задание 3\n",
        "Для каждой компании вывести общее количество купленных джазовых композиций.\n"
      ]
    },
    {
      "cell_type": "code",
      "metadata": {
        "id": "9kcvxk8OCrby"
      },
      "source": [],
      "execution_count": null,
      "outputs": []
    },
    {
      "cell_type": "markdown",
      "metadata": {
        "id": "M2JDkqnT7LlG"
      },
      "source": [
        "## Задание 4\n",
        "Вывести топ 3 альбома по продолжительности (продолжительность альбома - сумма длин треков в нём). Только название и продолжительность.\n"
      ]
    },
    {
      "cell_type": "code",
      "metadata": {
        "id": "isEzp0r0Crzy"
      },
      "source": [],
      "execution_count": null,
      "outputs": []
    },
    {
      "cell_type": "markdown",
      "metadata": {
        "id": "Ni7Mi7ur7LlH"
      },
      "source": [
        "## Задание 5\n",
        "Для каждого набора (жанр, тип медиа) вывести среднюю цену по стоимости трека и их общее количество, причем вывести только те наборы, для которых **все** треки стоят больше 1,5$ и для которых в наборе есть хотя бы один трек."
      ]
    },
    {
      "cell_type": "code",
      "metadata": {
        "id": "TooWokIqCsIi"
      },
      "source": [],
      "execution_count": null,
      "outputs": []
    }
  ]
}