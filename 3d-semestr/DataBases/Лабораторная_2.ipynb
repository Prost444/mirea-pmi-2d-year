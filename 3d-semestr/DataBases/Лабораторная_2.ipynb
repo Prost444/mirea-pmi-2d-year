{
  "cells": [
    {
      "cell_type": "code",
      "execution_count": 1,
      "metadata": {
        "id": "exFkotWz7Lk_"
      },
      "outputs": [],
      "source": [
        "%load_ext sql\n",
        "%sql sqlite:///chinook.db"
      ]
    },
    {
      "cell_type": "markdown",
      "metadata": {
        "id": "IwJ_E91n7LlD"
      },
      "source": [
        "## Задание 1\n",
        "Вывести названия всех групп, их песен и названия их альбомов для всех треков жанра Rock, приобретенные сотрудниками Microsoft.\n"
      ]
    },
    {
      "cell_type": "code",
      "execution_count": 4,
      "metadata": {
        "id": "9b5SWBYUCqmy"
      },
      "outputs": [
        {
          "name": "stdout",
          "output_type": "stream",
          "text": [
            " * sqlite:///chinook.db\n",
            "Done.\n"
          ]
        },
        {
          "data": {
            "text/html": [
              "<table>\n",
              "    <thead>\n",
              "        <tr>\n",
              "            <th>Artist</th>\n",
              "            <th>Album</th>\n",
              "            <th>Track</th>\n",
              "        </tr>\n",
              "    </thead>\n",
              "    <tbody>\n",
              "        <tr>\n",
              "            <td>Guns N&#x27; Roses</td>\n",
              "            <td>Use Your Illusion I</td>\n",
              "            <td>Double Talkin&#x27; Jive</td>\n",
              "        </tr>\n",
              "        <tr>\n",
              "            <td>Guns N&#x27; Roses</td>\n",
              "            <td>Use Your Illusion I</td>\n",
              "            <td>The Garden</td>\n",
              "        </tr>\n",
              "        <tr>\n",
              "            <td>Guns N&#x27; Roses</td>\n",
              "            <td>Use Your Illusion I</td>\n",
              "            <td>Don&#x27;t Damn Me</td>\n",
              "        </tr>\n",
              "        <tr>\n",
              "            <td>Guns N&#x27; Roses</td>\n",
              "            <td>Use Your Illusion I</td>\n",
              "            <td>Dead Horse</td>\n",
              "        </tr>\n",
              "        <tr>\n",
              "            <td>Foo Fighters</td>\n",
              "            <td>In Your Honor [Disc 1]</td>\n",
              "            <td>No Way Back</td>\n",
              "        </tr>\n",
              "        <tr>\n",
              "            <td>Foo Fighters</td>\n",
              "            <td>In Your Honor [Disc 2]</td>\n",
              "            <td>Still</td>\n",
              "        </tr>\n",
              "        <tr>\n",
              "            <td>Foo Fighters</td>\n",
              "            <td>In Your Honor [Disc 2]</td>\n",
              "            <td>Razor</td>\n",
              "        </tr>\n",
              "        <tr>\n",
              "            <td>Foo Fighters</td>\n",
              "            <td>The Colour And The Shape</td>\n",
              "            <td>My Hero</td>\n",
              "        </tr>\n",
              "    </tbody>\n",
              "</table>"
            ],
            "text/plain": [
              "[(\"Guns N' Roses\", 'Use Your Illusion I', \"Double Talkin' Jive\"),\n",
              " (\"Guns N' Roses\", 'Use Your Illusion I', 'The Garden'),\n",
              " (\"Guns N' Roses\", 'Use Your Illusion I', \"Don't Damn Me\"),\n",
              " (\"Guns N' Roses\", 'Use Your Illusion I', 'Dead Horse'),\n",
              " ('Foo Fighters', 'In Your Honor [Disc 1]', 'No Way Back'),\n",
              " ('Foo Fighters', 'In Your Honor [Disc 2]', 'Still'),\n",
              " ('Foo Fighters', 'In Your Honor [Disc 2]', 'Razor'),\n",
              " ('Foo Fighters', 'The Colour And The Shape', 'My Hero')]"
            ]
          },
          "execution_count": 4,
          "metadata": {},
          "output_type": "execute_result"
        }
      ],
      "source": [
        "%%sql\n",
        "select ar.Name as Artist, al.Title as Album, t.Name as Track\n",
        "    from invoice_items ii\n",
        "    join tracks t\n",
        "        on ii.TrackId = t.TrackId\n",
        "    join genres g\n",
        "        on t.GenreId = g.GenreId\n",
        "    join albums al\n",
        "        on al.AlbumId = t.AlbumId\n",
        "    join artists ar\n",
        "        on al.ArtistId = ar.ArtistId\n",
        "    join invoices i\n",
        "        on ii.InvoiceId = i.InvoiceId\n",
        "    join Customers c\n",
        "        on i.CustomerId = c.CustomerId\n",
        "where c.Company LIKE \"Microsoft%\" AND g.Name LIKE \"Rock\";"
      ]
    },
    {
      "cell_type": "markdown",
      "metadata": {
        "id": "eEAq-gUB7LlF"
      },
      "source": [
        "## Задание 2\n",
        "Вывести 10 самых больших по размеру треков жанра Blues и формата MPEG (используйте команду LIMIT 10). Только название и автор.\n"
      ]
    },
    {
      "cell_type": "code",
      "execution_count": 5,
      "metadata": {
        "id": "LQxLAdI3CrDC"
      },
      "outputs": [
        {
          "name": "stdout",
          "output_type": "stream",
          "text": [
            " * sqlite:///chinook.db\n",
            "Done.\n"
          ]
        },
        {
          "data": {
            "text/html": [
              "<table>\n",
              "    <thead>\n",
              "        <tr>\n",
              "            <th>Artist</th>\n",
              "            <th>Track</th>\n",
              "        </tr>\n",
              "    </thead>\n",
              "    <tbody>\n",
              "        <tr>\n",
              "            <td>Buddy Guy</td>\n",
              "            <td>Talkin&#x27; &#x27;Bout Women Obviously</td>\n",
              "        </tr>\n",
              "        <tr>\n",
              "            <td>Stevie Ray Vaughan &amp; Double Trouble</td>\n",
              "            <td>Riviera Paradise</td>\n",
              "        </tr>\n",
              "        <tr>\n",
              "            <td>The Black Crowes</td>\n",
              "            <td>Title Song</td>\n",
              "        </tr>\n",
              "        <tr>\n",
              "            <td>Eric Clapton</td>\n",
              "            <td>Old Love</td>\n",
              "        </tr>\n",
              "        <tr>\n",
              "            <td>The Black Crowes</td>\n",
              "            <td>Wiser Time</td>\n",
              "        </tr>\n",
              "        <tr>\n",
              "            <td>Buddy Guy</td>\n",
              "            <td>Stone Crazy</td>\n",
              "        </tr>\n",
              "        <tr>\n",
              "            <td>Eric Clapton</td>\n",
              "            <td>Layla</td>\n",
              "        </tr>\n",
              "        <tr>\n",
              "            <td>The Black Crowes</td>\n",
              "            <td>Girl From A Pawnshop</td>\n",
              "        </tr>\n",
              "        <tr>\n",
              "            <td>The Black Crowes</td>\n",
              "            <td>Sometimes Salvation</td>\n",
              "        </tr>\n",
              "        <tr>\n",
              "            <td>Eric Clapton</td>\n",
              "            <td>Running On Faith</td>\n",
              "        </tr>\n",
              "    </tbody>\n",
              "</table>"
            ],
            "text/plain": [
              "[('Buddy Guy', \"Talkin' 'Bout Women Obviously\"),\n",
              " ('Stevie Ray Vaughan & Double Trouble', 'Riviera Paradise'),\n",
              " ('The Black Crowes', 'Title Song'),\n",
              " ('Eric Clapton', 'Old Love'),\n",
              " ('The Black Crowes', 'Wiser Time'),\n",
              " ('Buddy Guy', 'Stone Crazy'),\n",
              " ('Eric Clapton', 'Layla'),\n",
              " ('The Black Crowes', 'Girl From A Pawnshop'),\n",
              " ('The Black Crowes', 'Sometimes Salvation'),\n",
              " ('Eric Clapton', 'Running On Faith')]"
            ]
          },
          "execution_count": 5,
          "metadata": {},
          "output_type": "execute_result"
        }
      ],
      "source": [
        "%%sql\n",
        "select ar.Name as Artist, t.Name as Track\n",
        "    from tracks t\n",
        "    join genres g\n",
        "        on t.GenreId = g.GenreId\n",
        "    join media_types mt\n",
        "        on t.MediaTypeId = mt.MediaTypeId\n",
        "    join albums al\n",
        "        on al.AlbumId = t.AlbumId\n",
        "    join artists ar\n",
        "        on al.ArtistId = ar.ArtistId\n",
        "where g.Name LIKE \"Blues\" AND mt.Name LIKE \"MPEG%\"\n",
        "order by t.Bytes desc\n",
        "limit 10;"
      ]
    },
    {
      "cell_type": "markdown",
      "metadata": {
        "id": "0mmLXQXr7LlG"
      },
      "source": [
        "## Задание 3\n",
        "Для каждой компании вывести общее количество купленных джазовых композиций.\n"
      ]
    },
    {
      "cell_type": "code",
      "execution_count": 13,
      "metadata": {
        "id": "9kcvxk8OCrby"
      },
      "outputs": [
        {
          "name": "stdout",
          "output_type": "stream",
          "text": [
            " * sqlite:///chinook.db\n",
            "Done.\n"
          ]
        },
        {
          "data": {
            "text/html": [
              "<table>\n",
              "    <thead>\n",
              "        <tr>\n",
              "            <th>Company</th>\n",
              "            <th>Bought_Tracks</th>\n",
              "        </tr>\n",
              "    </thead>\n",
              "    <tbody>\n",
              "        <tr>\n",
              "            <td>Apple Inc.</td>\n",
              "            <td>2</td>\n",
              "        </tr>\n",
              "        <tr>\n",
              "            <td>Google Inc.</td>\n",
              "            <td>2</td>\n",
              "        </tr>\n",
              "        <tr>\n",
              "            <td>JetBrains s.r.o.</td>\n",
              "            <td>3</td>\n",
              "        </tr>\n",
              "        <tr>\n",
              "            <td>Microsoft Corporation</td>\n",
              "            <td>2</td>\n",
              "        </tr>\n",
              "        <tr>\n",
              "            <td>Telus</td>\n",
              "            <td>2</td>\n",
              "        </tr>\n",
              "    </tbody>\n",
              "</table>"
            ],
            "text/plain": [
              "[('Apple Inc.', 2),\n",
              " ('Google Inc.', 2),\n",
              " ('JetBrains s.r.o.', 3),\n",
              " ('Microsoft Corporation', 2),\n",
              " ('Telus', 2)]"
            ]
          },
          "execution_count": 13,
          "metadata": {},
          "output_type": "execute_result"
        }
      ],
      "source": [
        "%%sql\n",
        "select c.Company as Company, sum(ii.Quantity) as Bought_Tracks\n",
        "    from customers c\n",
        "    join invoices i\n",
        "        on c.CustomerId = i.CustomerId\n",
        "    join invoice_items ii\n",
        "        on i.InvoiceId = ii.InvoiceId\n",
        "    join tracks t\n",
        "        on ii.TrackId = t.TrackId\n",
        "    join genres g\n",
        "        on g.GenreId = t.GenreId\n",
        "where g.Name like \"Jazz\" and c.Company is not null\n",
        "group by c.Company;\n"
      ]
    },
    {
      "cell_type": "markdown",
      "metadata": {
        "id": "M2JDkqnT7LlG"
      },
      "source": [
        "## Задание 4\n",
        "Вывести топ 3 альбома по продолжительности (продолжительность альбома - сумма длин треков в нём). Только название и продолжительность.\n"
      ]
    },
    {
      "cell_type": "code",
      "execution_count": 42,
      "metadata": {
        "id": "isEzp0r0Crzy"
      },
      "outputs": [
        {
          "name": "stdout",
          "output_type": "stream",
          "text": [
            " * sqlite:///chinook.db\n",
            "Done.\n"
          ]
        },
        {
          "data": {
            "text/html": [
              "<table>\n",
              "    <thead>\n",
              "        <tr>\n",
              "            <th>Album</th>\n",
              "            <th>Time</th>\n",
              "        </tr>\n",
              "    </thead>\n",
              "    <tbody>\n",
              "        <tr>\n",
              "            <td>Lost, Season 3</td>\n",
              "            <td>19:37:45</td>\n",
              "        </tr>\n",
              "        <tr>\n",
              "            <td>Battlestar Galactica (Classic), Season 1</td>\n",
              "            <td>19:30:13</td>\n",
              "        </tr>\n",
              "        <tr>\n",
              "            <td>Lost, Season 1</td>\n",
              "            <td>18:00:54</td>\n",
              "        </tr>\n",
              "    </tbody>\n",
              "</table>"
            ],
            "text/plain": [
              "[('Lost, Season 3', '19:37:45'),\n",
              " ('Battlestar Galactica (Classic), Season 1', '19:30:13'),\n",
              " ('Lost, Season 1', '18:00:54')]"
            ]
          },
          "execution_count": 42,
          "metadata": {},
          "output_type": "execute_result"
        }
      ],
      "source": [
        "%%sql\n",
        "\n",
        "select al.Title as Album, strftime('%H:%M:%S', SUM(t.Milliseconds) / 1000, 'unixepoch') AS Time\n",
        "    from tracks t\n",
        "    join albums al\n",
        "        on al.AlbumId = t.AlbumId\n",
        "group by al.Title\n",
        "order by sum(t.Milliseconds) desc\n",
        "limit 3;"
      ]
    },
    {
      "cell_type": "markdown",
      "metadata": {
        "id": "Ni7Mi7ur7LlH"
      },
      "source": [
        "## Задание 5\n",
        "Для каждого набора (жанр, тип медиа) вывести среднюю цену по стоимости трека и их общее количество, причем вывести только те наборы, для которых **все** треки стоят больше 1,5$ и для которых в наборе есть хотя бы один трек."
      ]
    },
    {
      "cell_type": "code",
      "execution_count": 56,
      "metadata": {
        "id": "TooWokIqCsIi"
      },
      "outputs": [
        {
          "name": "stdout",
          "output_type": "stream",
          "text": [
            " * sqlite:///chinook.db\n",
            "Done.\n"
          ]
        },
        {
          "data": {
            "text/html": [
              "<table>\n",
              "    <thead>\n",
              "        <tr>\n",
              "            <th>Genre</th>\n",
              "            <th>Media_Type</th>\n",
              "            <th>Average_Price</th>\n",
              "            <th>Total_Tracks</th>\n",
              "        </tr>\n",
              "    </thead>\n",
              "    <tbody>\n",
              "        <tr>\n",
              "            <td>Alternative</td>\n",
              "            <td>Protected AAC audio file</td>\n",
              "            <td>0.9899999999999998</td>\n",
              "            <td>38</td>\n",
              "        </tr>\n",
              "        <tr>\n",
              "            <td>Alternative &amp; Punk</td>\n",
              "            <td>MPEG audio file</td>\n",
              "            <td>0.9900000000000047</td>\n",
              "            <td>332</td>\n",
              "        </tr>\n",
              "        <tr>\n",
              "            <td>Blues</td>\n",
              "            <td>MPEG audio file</td>\n",
              "            <td>0.9899999999999994</td>\n",
              "            <td>81</td>\n",
              "        </tr>\n",
              "        <tr>\n",
              "            <td>Bossa Nova</td>\n",
              "            <td>MPEG audio file</td>\n",
              "            <td>0.9900000000000001</td>\n",
              "            <td>15</td>\n",
              "        </tr>\n",
              "        <tr>\n",
              "            <td>Classical</td>\n",
              "            <td>Protected AAC audio file</td>\n",
              "            <td>0.9900000000000004</td>\n",
              "            <td>67</td>\n",
              "        </tr>\n",
              "        <tr>\n",
              "            <td>Classical</td>\n",
              "            <td>Purchased AAC audio file</td>\n",
              "            <td>0.9900000000000001</td>\n",
              "            <td>6</td>\n",
              "        </tr>\n",
              "        <tr>\n",
              "            <td>Comedy</td>\n",
              "            <td>Protected MPEG-4 video file</td>\n",
              "            <td>1.9899999999999995</td>\n",
              "            <td>17</td>\n",
              "        </tr>\n",
              "        <tr>\n",
              "            <td>Drama</td>\n",
              "            <td>Protected MPEG-4 video file</td>\n",
              "            <td>1.9899999999999978</td>\n",
              "            <td>64</td>\n",
              "        </tr>\n",
              "        <tr>\n",
              "            <td>Easy Listening</td>\n",
              "            <td>MPEG audio file</td>\n",
              "            <td>0.9899999999999997</td>\n",
              "            <td>24</td>\n",
              "        </tr>\n",
              "        <tr>\n",
              "            <td>Electronica/Dance</td>\n",
              "            <td>AAC audio file</td>\n",
              "            <td>0.99</td>\n",
              "            <td>2</td>\n",
              "        </tr>\n",
              "        <tr>\n",
              "            <td>Electronica/Dance</td>\n",
              "            <td>MPEG audio file</td>\n",
              "            <td>0.9899999999999994</td>\n",
              "            <td>28</td>\n",
              "        </tr>\n",
              "        <tr>\n",
              "            <td>Heavy Metal</td>\n",
              "            <td>MPEG audio file</td>\n",
              "            <td>0.9899999999999994</td>\n",
              "            <td>28</td>\n",
              "        </tr>\n",
              "        <tr>\n",
              "            <td>Hip Hop/Rap</td>\n",
              "            <td>MPEG audio file</td>\n",
              "            <td>0.9899999999999995</td>\n",
              "            <td>35</td>\n",
              "        </tr>\n",
              "        <tr>\n",
              "            <td>Jazz</td>\n",
              "            <td>AAC audio file</td>\n",
              "            <td>0.9899999999999999</td>\n",
              "            <td>3</td>\n",
              "        </tr>\n",
              "        <tr>\n",
              "            <td>Jazz</td>\n",
              "            <td>MPEG audio file</td>\n",
              "            <td>0.9899999999999978</td>\n",
              "            <td>127</td>\n",
              "        </tr>\n",
              "        <tr>\n",
              "            <td>Latin</td>\n",
              "            <td>MPEG audio file</td>\n",
              "            <td>0.9900000000000065</td>\n",
              "            <td>578</td>\n",
              "        </tr>\n",
              "        <tr>\n",
              "            <td>Metal</td>\n",
              "            <td>MPEG audio file</td>\n",
              "            <td>0.9900000000000051</td>\n",
              "            <td>374</td>\n",
              "        </tr>\n",
              "        <tr>\n",
              "            <td>Pop</td>\n",
              "            <td>MPEG audio file</td>\n",
              "            <td>0.9900000000000001</td>\n",
              "            <td>14</td>\n",
              "        </tr>\n",
              "        <tr>\n",
              "            <td>Pop</td>\n",
              "            <td>Protected AAC audio file</td>\n",
              "            <td>0.9899999999999994</td>\n",
              "            <td>34</td>\n",
              "        </tr>\n",
              "        <tr>\n",
              "            <td>R&amp;B/Soul</td>\n",
              "            <td>MPEG audio file</td>\n",
              "            <td>0.9900000000000002</td>\n",
              "            <td>49</td>\n",
              "        </tr>\n",
              "        <tr>\n",
              "            <td>R&amp;B/Soul</td>\n",
              "            <td>Protected AAC audio file</td>\n",
              "            <td>0.9900000000000001</td>\n",
              "            <td>12</td>\n",
              "        </tr>\n",
              "        <tr>\n",
              "            <td>Reggae</td>\n",
              "            <td>MPEG audio file</td>\n",
              "            <td>0.9900000000000005</td>\n",
              "            <td>58</td>\n",
              "        </tr>\n",
              "        <tr>\n",
              "            <td>Rock</td>\n",
              "            <td>AAC audio file</td>\n",
              "            <td>0.99</td>\n",
              "            <td>2</td>\n",
              "        </tr>\n",
              "        <tr>\n",
              "            <td>Rock</td>\n",
              "            <td>MPEG audio file</td>\n",
              "            <td>0.9900000000000078</td>\n",
              "            <td>1211</td>\n",
              "        </tr>\n",
              "        <tr>\n",
              "            <td>Rock</td>\n",
              "            <td>Protected AAC audio file</td>\n",
              "            <td>0.9899999999999993</td>\n",
              "            <td>84</td>\n",
              "        </tr>\n",
              "        <tr>\n",
              "            <td>Rock And Roll</td>\n",
              "            <td>MPEG audio file</td>\n",
              "            <td>0.9900000000000001</td>\n",
              "            <td>12</td>\n",
              "        </tr>\n",
              "        <tr>\n",
              "            <td>Sci Fi &amp; Fantasy</td>\n",
              "            <td>Protected MPEG-4 video file</td>\n",
              "            <td>1.9900000000000004</td>\n",
              "            <td>26</td>\n",
              "        </tr>\n",
              "        <tr>\n",
              "            <td>Science Fiction</td>\n",
              "            <td>Protected MPEG-4 video file</td>\n",
              "            <td>1.9899999999999995</td>\n",
              "            <td>13</td>\n",
              "        </tr>\n",
              "        <tr>\n",
              "            <td>Soundtrack</td>\n",
              "            <td>MPEG audio file</td>\n",
              "            <td>0.99</td>\n",
              "            <td>42</td>\n",
              "        </tr>\n",
              "        <tr>\n",
              "            <td>TV Shows</td>\n",
              "            <td>Protected MPEG-4 video file</td>\n",
              "            <td>1.990000000000001</td>\n",
              "            <td>93</td>\n",
              "        </tr>\n",
              "        <tr>\n",
              "            <td>World</td>\n",
              "            <td>AAC audio file</td>\n",
              "            <td>0.99</td>\n",
              "            <td>2</td>\n",
              "        </tr>\n",
              "        <tr>\n",
              "            <td>World</td>\n",
              "            <td>MPEG audio file</td>\n",
              "            <td>0.9899999999999995</td>\n",
              "            <td>26</td>\n",
              "        </tr>\n",
              "    </tbody>\n",
              "</table>"
            ],
            "text/plain": [
              "[('Alternative', 'Protected AAC audio file', 0.9899999999999998, 38),\n",
              " ('Alternative & Punk', 'MPEG audio file', 0.9900000000000047, 332),\n",
              " ('Blues', 'MPEG audio file', 0.9899999999999994, 81),\n",
              " ('Bossa Nova', 'MPEG audio file', 0.9900000000000001, 15),\n",
              " ('Classical', 'Protected AAC audio file', 0.9900000000000004, 67),\n",
              " ('Classical', 'Purchased AAC audio file', 0.9900000000000001, 6),\n",
              " ('Comedy', 'Protected MPEG-4 video file', 1.9899999999999995, 17),\n",
              " ('Drama', 'Protected MPEG-4 video file', 1.9899999999999978, 64),\n",
              " ('Easy Listening', 'MPEG audio file', 0.9899999999999997, 24),\n",
              " ('Electronica/Dance', 'AAC audio file', 0.99, 2),\n",
              " ('Electronica/Dance', 'MPEG audio file', 0.9899999999999994, 28),\n",
              " ('Heavy Metal', 'MPEG audio file', 0.9899999999999994, 28),\n",
              " ('Hip Hop/Rap', 'MPEG audio file', 0.9899999999999995, 35),\n",
              " ('Jazz', 'AAC audio file', 0.9899999999999999, 3),\n",
              " ('Jazz', 'MPEG audio file', 0.9899999999999978, 127),\n",
              " ('Latin', 'MPEG audio file', 0.9900000000000065, 578),\n",
              " ('Metal', 'MPEG audio file', 0.9900000000000051, 374),\n",
              " ('Pop', 'MPEG audio file', 0.9900000000000001, 14),\n",
              " ('Pop', 'Protected AAC audio file', 0.9899999999999994, 34),\n",
              " ('R&B/Soul', 'MPEG audio file', 0.9900000000000002, 49),\n",
              " ('R&B/Soul', 'Protected AAC audio file', 0.9900000000000001, 12),\n",
              " ('Reggae', 'MPEG audio file', 0.9900000000000005, 58),\n",
              " ('Rock', 'AAC audio file', 0.99, 2),\n",
              " ('Rock', 'MPEG audio file', 0.9900000000000078, 1211),\n",
              " ('Rock', 'Protected AAC audio file', 0.9899999999999993, 84),\n",
              " ('Rock And Roll', 'MPEG audio file', 0.9900000000000001, 12),\n",
              " ('Sci Fi & Fantasy', 'Protected MPEG-4 video file', 1.9900000000000004, 26),\n",
              " ('Science Fiction', 'Protected MPEG-4 video file', 1.9899999999999995, 13),\n",
              " ('Soundtrack', 'MPEG audio file', 0.99, 42),\n",
              " ('TV Shows', 'Protected MPEG-4 video file', 1.990000000000001, 93),\n",
              " ('World', 'AAC audio file', 0.99, 2),\n",
              " ('World', 'MPEG audio file', 0.9899999999999995, 26)]"
            ]
          },
          "execution_count": 56,
          "metadata": {},
          "output_type": "execute_result"
        }
      ],
      "source": [
        "%%sql\n",
        "\n",
        "select distinct g.Name as Genre, mt.Name as Media_Type, avg(t.UnitPrice) as Average_Price, count(t.TrackId) as Total_Tracks\n",
        "    from genres g\n",
        "    join tracks t\n",
        "        on t.GenreId = g.GenreId\n",
        "    join media_types mt\n",
        "        on mt.MediaTypeId = t.MediaTypeId\n",
        "group by g.Name, mt.Name\n",
        "having sum(t.UnitPrice) > 1.5\n",
        "limit 1000;"
      ]
    }
  ],
  "metadata": {
    "colab": {
      "provenance": []
    },
    "kernelspec": {
      "display_name": "Python 3",
      "language": "python",
      "name": "python3"
    },
    "language_info": {
      "codemirror_mode": {
        "name": "ipython",
        "version": 3
      },
      "file_extension": ".py",
      "mimetype": "text/x-python",
      "name": "python",
      "nbconvert_exporter": "python",
      "pygments_lexer": "ipython3",
      "version": "3.11.4"
    }
  },
  "nbformat": 4,
  "nbformat_minor": 0
}
