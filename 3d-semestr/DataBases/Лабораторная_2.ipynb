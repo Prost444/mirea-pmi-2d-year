{
  "cells": [
    {
      "cell_type": "code",
      "execution_count": 1,
      "metadata": {
        "id": "exFkotWz7Lk_"
      },
      "outputs": [],
      "source": [
        "%load_ext sql\n",
        "%sql sqlite:///chinook.db"
      ]
    },
    {
      "cell_type": "markdown",
      "metadata": {
        "id": "IwJ_E91n7LlD"
      },
      "source": [
        "## Задание 1\n",
        "Вывести названия всех групп, их песен и названия их альбомов для всех треков жанра Rock, приобретенные сотрудниками Microsoft.\n"
      ]
    },
    {
      "cell_type": "code",
      "execution_count": 4,
      "metadata": {
        "id": "9b5SWBYUCqmy"
      },
      "outputs": [
        {
          "name": "stdout",
          "output_type": "stream",
          "text": [
            " * sqlite:///chinook.db\n",
            "Done.\n"
          ]
        },
        {
          "data": {
            "text/html": [
              "<table>\n",
              "    <thead>\n",
              "        <tr>\n",
              "            <th>Artist</th>\n",
              "            <th>Album</th>\n",
              "            <th>Track</th>\n",
              "        </tr>\n",
              "    </thead>\n",
              "    <tbody>\n",
              "        <tr>\n",
              "            <td>Guns N&#x27; Roses</td>\n",
              "            <td>Use Your Illusion I</td>\n",
              "            <td>Double Talkin&#x27; Jive</td>\n",
              "        </tr>\n",
              "        <tr>\n",
              "            <td>Guns N&#x27; Roses</td>\n",
              "            <td>Use Your Illusion I</td>\n",
              "            <td>The Garden</td>\n",
              "        </tr>\n",
              "        <tr>\n",
              "            <td>Guns N&#x27; Roses</td>\n",
              "            <td>Use Your Illusion I</td>\n",
              "            <td>Don&#x27;t Damn Me</td>\n",
              "        </tr>\n",
              "        <tr>\n",
              "            <td>Guns N&#x27; Roses</td>\n",
              "            <td>Use Your Illusion I</td>\n",
              "            <td>Dead Horse</td>\n",
              "        </tr>\n",
              "        <tr>\n",
              "            <td>Foo Fighters</td>\n",
              "            <td>In Your Honor [Disc 1]</td>\n",
              "            <td>No Way Back</td>\n",
              "        </tr>\n",
              "        <tr>\n",
              "            <td>Foo Fighters</td>\n",
              "            <td>In Your Honor [Disc 2]</td>\n",
              "            <td>Still</td>\n",
              "        </tr>\n",
              "        <tr>\n",
              "            <td>Foo Fighters</td>\n",
              "            <td>In Your Honor [Disc 2]</td>\n",
              "            <td>Razor</td>\n",
              "        </tr>\n",
              "        <tr>\n",
              "            <td>Foo Fighters</td>\n",
              "            <td>The Colour And The Shape</td>\n",
              "            <td>My Hero</td>\n",
              "        </tr>\n",
              "    </tbody>\n",
              "</table>"
            ],
            "text/plain": [
              "[(\"Guns N' Roses\", 'Use Your Illusion I', \"Double Talkin' Jive\"),\n",
              " (\"Guns N' Roses\", 'Use Your Illusion I', 'The Garden'),\n",
              " (\"Guns N' Roses\", 'Use Your Illusion I', \"Don't Damn Me\"),\n",
              " (\"Guns N' Roses\", 'Use Your Illusion I', 'Dead Horse'),\n",
              " ('Foo Fighters', 'In Your Honor [Disc 1]', 'No Way Back'),\n",
              " ('Foo Fighters', 'In Your Honor [Disc 2]', 'Still'),\n",
              " ('Foo Fighters', 'In Your Honor [Disc 2]', 'Razor'),\n",
              " ('Foo Fighters', 'The Colour And The Shape', 'My Hero')]"
            ]
          },
          "execution_count": 4,
          "metadata": {},
          "output_type": "execute_result"
        }
      ],
      "source": [
        "%%sql\n",
        "select ar.Name as Artist, al.Title as Album, t.Name as Track\n",
        "    from invoice_items ii\n",
        "    join tracks t\n",
        "        on ii.TrackId = t.TrackId\n",
        "    join genres g\n",
        "        on t.GenreId = g.GenreId\n",
        "    join albums al\n",
        "        on al.AlbumId = t.AlbumId\n",
        "    join artists ar\n",
        "        on al.ArtistId = ar.ArtistId\n",
        "    join invoices i\n",
        "        on ii.InvoiceId = i.InvoiceId\n",
        "    join Customers c\n",
        "        on i.CustomerId = c.CustomerId\n",
        "where c.Company LIKE \"Microsoft%\" AND g.Name LIKE \"Rock\";"
      ]
    },
    {
      "cell_type": "markdown",
      "metadata": {
        "id": "eEAq-gUB7LlF"
      },
      "source": [
        "## Задание 2\n",
        "Вывести 10 самых больших по размеру треков жанра Blues и формата MPEG (используйте команду LIMIT 10). Только название и автор.\n"
      ]
    },
    {
      "cell_type": "code",
      "execution_count": 5,
      "metadata": {
        "id": "LQxLAdI3CrDC"
      },
      "outputs": [
        {
          "name": "stdout",
          "output_type": "stream",
          "text": [
            " * sqlite:///chinook.db\n",
            "Done.\n"
          ]
        },
        {
          "data": {
            "text/html": [
              "<table>\n",
              "    <thead>\n",
              "        <tr>\n",
              "            <th>Artist</th>\n",
              "            <th>Track</th>\n",
              "        </tr>\n",
              "    </thead>\n",
              "    <tbody>\n",
              "        <tr>\n",
              "            <td>Buddy Guy</td>\n",
              "            <td>Talkin&#x27; &#x27;Bout Women Obviously</td>\n",
              "        </tr>\n",
              "        <tr>\n",
              "            <td>Stevie Ray Vaughan &amp; Double Trouble</td>\n",
              "            <td>Riviera Paradise</td>\n",
              "        </tr>\n",
              "        <tr>\n",
              "            <td>The Black Crowes</td>\n",
              "            <td>Title Song</td>\n",
              "        </tr>\n",
              "        <tr>\n",
              "            <td>Eric Clapton</td>\n",
              "            <td>Old Love</td>\n",
              "        </tr>\n",
              "        <tr>\n",
              "            <td>The Black Crowes</td>\n",
              "            <td>Wiser Time</td>\n",
              "        </tr>\n",
              "        <tr>\n",
              "            <td>Buddy Guy</td>\n",
              "            <td>Stone Crazy</td>\n",
              "        </tr>\n",
              "        <tr>\n",
              "            <td>Eric Clapton</td>\n",
              "            <td>Layla</td>\n",
              "        </tr>\n",
              "        <tr>\n",
              "            <td>The Black Crowes</td>\n",
              "            <td>Girl From A Pawnshop</td>\n",
              "        </tr>\n",
              "        <tr>\n",
              "            <td>The Black Crowes</td>\n",
              "            <td>Sometimes Salvation</td>\n",
              "        </tr>\n",
              "        <tr>\n",
              "            <td>Eric Clapton</td>\n",
              "            <td>Running On Faith</td>\n",
              "        </tr>\n",
              "    </tbody>\n",
              "</table>"
            ],
            "text/plain": [
              "[('Buddy Guy', \"Talkin' 'Bout Women Obviously\"),\n",
              " ('Stevie Ray Vaughan & Double Trouble', 'Riviera Paradise'),\n",
              " ('The Black Crowes', 'Title Song'),\n",
              " ('Eric Clapton', 'Old Love'),\n",
              " ('The Black Crowes', 'Wiser Time'),\n",
              " ('Buddy Guy', 'Stone Crazy'),\n",
              " ('Eric Clapton', 'Layla'),\n",
              " ('The Black Crowes', 'Girl From A Pawnshop'),\n",
              " ('The Black Crowes', 'Sometimes Salvation'),\n",
              " ('Eric Clapton', 'Running On Faith')]"
            ]
          },
          "execution_count": 5,
          "metadata": {},
          "output_type": "execute_result"
        }
      ],
      "source": [
        "%%sql\n",
        "select ar.Name as Artist, t.Name as Track\n",
        "    from tracks t\n",
        "    join genres g\n",
        "        on t.GenreId = g.GenreId\n",
        "    join media_types mt\n",
        "        on t.MediaTypeId = mt.MediaTypeId\n",
        "    join albums al\n",
        "        on al.AlbumId = t.AlbumId\n",
        "    join artists ar\n",
        "        on al.ArtistId = ar.ArtistId\n",
        "where g.Name LIKE \"Blues\" AND mt.Name LIKE \"MPEG%\"\n",
        "order by t.Bytes desc\n",
        "limit 10;"
      ]
    },
    {
      "cell_type": "markdown",
      "metadata": {
        "id": "0mmLXQXr7LlG"
      },
      "source": [
        "## Задание 3\n",
        "Для каждой компании вывести общее количество купленных джазовых композиций.\n"
      ]
    },
    {
      "cell_type": "code",
      "execution_count": 12,
      "metadata": {
        "id": "9kcvxk8OCrby"
      },
      "outputs": [
        {
          "name": "stdout",
          "output_type": "stream",
          "text": [
            " * sqlite:///chinook.db\n",
            "Done.\n"
          ]
        },
        {
          "data": {
            "text/html": [
              "<table>\n",
              "    <thead>\n",
              "        <tr>\n",
              "            <th>Company</th>\n",
              "            <th>Bought_Tracks</th>\n",
              "        </tr>\n",
              "    </thead>\n",
              "    <tbody>\n",
              "        <tr>\n",
              "            <td>Apple Inc.</td>\n",
              "            <td>2</td>\n",
              "        </tr>\n",
              "        <tr>\n",
              "            <td>Google Inc.</td>\n",
              "            <td>2</td>\n",
              "        </tr>\n",
              "        <tr>\n",
              "            <td>JetBrains s.r.o.</td>\n",
              "            <td>3</td>\n",
              "        </tr>\n",
              "        <tr>\n",
              "            <td>Microsoft Corporation</td>\n",
              "            <td>2</td>\n",
              "        </tr>\n",
              "        <tr>\n",
              "            <td>Telus</td>\n",
              "            <td>2</td>\n",
              "        </tr>\n",
              "    </tbody>\n",
              "</table>"
            ],
            "text/plain": [
              "[('Apple Inc.', 2),\n",
              " ('Google Inc.', 2),\n",
              " ('JetBrains s.r.o.', 3),\n",
              " ('Microsoft Corporation', 2),\n",
              " ('Telus', 2)]"
            ]
          },
          "execution_count": 12,
          "metadata": {},
          "output_type": "execute_result"
        }
      ],
      "source": [
        "%%sql\n",
        "select c.Company as Company, sum(ii.Quantity) as Bought_Tracks\n",
        "    from customers c\n",
        "    join invoices i\n",
        "        on c.CustomerId = i.CustomerId\n",
        "    join invoice_items ii\n",
        "        on i.InvoiceId = ii.InvoiceId\n",
        "    join tracks t\n",
        "        on ii.TrackId = t.TrackId\n",
        "    join genres g\n",
        "        on g.GenreId = t.GenreId\n",
        "where g.Name like \"Jazz\" and c.Company is not null\n",
        "group by c.Company\n"
      ]
    },
    {
      "cell_type": "markdown",
      "metadata": {
        "id": "M2JDkqnT7LlG"
      },
      "source": [
        "## Задание 4\n",
        "Вывести топ 3 альбома по продолжительности (продолжительность альбома - сумма длин треков в нём). Только название и продолжительность.\n"
      ]
    },
    {
      "cell_type": "code",
      "execution_count": null,
      "metadata": {
        "id": "isEzp0r0Crzy"
      },
      "outputs": [],
      "source": []
    },
    {
      "cell_type": "markdown",
      "metadata": {
        "id": "Ni7Mi7ur7LlH"
      },
      "source": [
        "## Задание 5\n",
        "Для каждого набора (жанр, тип медиа) вывести среднюю цену по стоимости трека и их общее количество, причем вывести только те наборы, для которых **все** треки стоят больше 1,5$ и для которых в наборе есть хотя бы один трек."
      ]
    },
    {
      "cell_type": "code",
      "execution_count": null,
      "metadata": {
        "id": "TooWokIqCsIi"
      },
      "outputs": [],
      "source": []
    }
  ],
  "metadata": {
    "colab": {
      "provenance": []
    },
    "kernelspec": {
      "display_name": "Python 3",
      "language": "python",
      "name": "python3"
    },
    "language_info": {
      "codemirror_mode": {
        "name": "ipython",
        "version": 3
      },
      "file_extension": ".py",
      "mimetype": "text/x-python",
      "name": "python",
      "nbconvert_exporter": "python",
      "pygments_lexer": "ipython3",
      "version": "3.11.4"
    }
  },
  "nbformat": 4,
  "nbformat_minor": 0
}
